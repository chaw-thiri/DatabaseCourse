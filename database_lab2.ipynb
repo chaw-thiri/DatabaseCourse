{
  "nbformat": 4,
  "nbformat_minor": 0,
  "metadata": {
    "colab": {
      "provenance": [],
      "mount_file_id": "1GUSDhcMuZjpv_-vvX5xMdKSLgK-NUX9M",
      "authorship_tag": "ABX9TyOQY1iPzzA0wSixpRVoxj6h",
      "include_colab_link": true
    },
    "kernelspec": {
      "name": "python3",
      "display_name": "Python 3"
    },
    "language_info": {
      "name": "python"
    }
  },
  "cells": [
    {
      "cell_type": "markdown",
      "metadata": {
        "id": "view-in-github",
        "colab_type": "text"
      },
      "source": [
        "<a href=\"https://colab.research.google.com/github/chaw-thiri/DatabaseCourse/blob/main/database_lab2.ipynb\" target=\"_parent\"><img src=\"https://colab.research.google.com/assets/colab-badge.svg\" alt=\"Open In Colab\"/></a>"
      ]
    },
    {
      "cell_type": "code",
      "execution_count": null,
      "metadata": {
        "id": "rn7sNBFMn_oJ"
      },
      "outputs": [],
      "source": []
    },
    {
      "cell_type": "code",
      "source": [
        "\n",
        "# !mkdir test.txt\n",
        "!touch text.txt\n"
      ],
      "metadata": {
        "id": "TN1_Pq7Tptmr"
      },
      "execution_count": 6,
      "outputs": []
    }
  ]
}