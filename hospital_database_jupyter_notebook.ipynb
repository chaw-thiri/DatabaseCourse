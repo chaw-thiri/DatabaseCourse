{
  "nbformat": 4,
  "nbformat_minor": 0,
  "metadata": {
    "colab": {
      "provenance": []
    },
    "kernelspec": {
      "name": "python3",
      "display_name": "Python 3"
    },
    "language_info": {
      "name": "python"
    }
  },
  "cells": [
    {
      "cell_type": "code",
      "execution_count": null,
      "metadata": {
        "colab": {
          "base_uri": "https://localhost:8080/"
        },
        "id": "C_YZxFNOBDk2",
        "outputId": "a2b14e78-decd-455b-9848-41de8bc815ec"
      },
      "outputs": [
        {
          "output_type": "stream",
          "name": "stdout",
          "text": [
            "Opened database successfully\n"
          ]
        }
      ],
      "source": [
        "# Importing the sqlite3 library\n",
        "import sqlite3\n",
        "\n",
        "# Connect to SQLite Database\n",
        "conn = sqlite3.connect('hospital_database.db')\n",
        "print(\"Opened database successfully\")\n",
        "\n"
      ]
    },
    {
      "cell_type": "code",
      "source": [
        "# to enable foreign keys usage\n",
        "conn.execute(\"PRAGMA foreign_keys = ON;\")"
      ],
      "metadata": {
        "colab": {
          "base_uri": "https://localhost:8080/"
        },
        "id": "_sHij05-JUoY",
        "outputId": "38721cf2-5b4d-4eb3-cff7-366af5511b3c"
      },
      "execution_count": null,
      "outputs": [
        {
          "output_type": "execute_result",
          "data": {
            "text/plain": [
              "<sqlite3.Cursor at 0x78e5984956c0>"
            ]
          },
          "metadata": {},
          "execution_count": 146
        }
      ]
    },
    {
      "cell_type": "markdown",
      "source": [
        "# Tables in hospital databases\n",
        "\n",
        "\n",
        "1. Location\n",
        "2. Department Location\n",
        "3. Project Location\n",
        "4. Employee\n",
        "5. Department\n",
        "6. Project\n",
        "7. Employee Project\n",
        "8. Dependent\n",
        "9. Annual Reward\n",
        "10. Patient\n",
        "11. Membership\n",
        "12. Finance\n",
        "\n",
        "\n",
        "\n",
        "\n",
        "\n",
        "\n"
      ],
      "metadata": {
        "id": "TJthL9WnBi1v"
      }
    },
    {
      "cell_type": "markdown",
      "source": [
        "# Creating the tables"
      ],
      "metadata": {
        "id": "ZxvBkMTsFDYS"
      }
    },
    {
      "cell_type": "markdown",
      "source": [
        "Start by creating a table without any foriegn keys.\n",
        "Location table will include -\n",
        "1. Location of the departments (e.g Emergency department, radiation department etc.)\n",
        "2. Location of the hospital branches.\n",
        "3. Location of the projects(e.g. vaccination projects can be anywhere across the country.)\n",
        "\n",
        "\n",
        "\n"
      ],
      "metadata": {
        "id": "ARKMeOS5MFuc"
      }
    },
    {
      "cell_type": "code",
      "source": [
        "\n",
        "conn.execute('''\n",
        "CREATE TABLE \"LOCATION\" (\n",
        "  \"location\" TEXT PRIMARY KEY\n",
        ");\n",
        "''')"
      ],
      "metadata": {
        "colab": {
          "base_uri": "https://localhost:8080/"
        },
        "id": "s275T4zGJS1i",
        "outputId": "4329d20d-5a60-4d00-9dcf-9dce2142ae1f"
      },
      "execution_count": null,
      "outputs": [
        {
          "output_type": "execute_result",
          "data": {
            "text/plain": [
              "<sqlite3.Cursor at 0x78e59847b740>"
            ]
          },
          "metadata": {},
          "execution_count": 147
        }
      ]
    },
    {
      "cell_type": "markdown",
      "source": [
        "* Department location tables connects department number with its location. For example, if a patient want to access an emergecy department but if it is full, she can easily be refered to another branch's EM department by checking this table.\n",
        "* The primary key of this table is a composite primary key which is formed by the unique combination of department number and the department location."
      ],
      "metadata": {
        "id": "Q52HdjQoMU6F"
      }
    },
    {
      "cell_type": "code",
      "source": [
        "conn.execute('''\n",
        "CREATE TABLE \"DEPARTMENT_LOCATION\" (\n",
        "  dlocation TEXT NOT NULL,\n",
        "  dnumber INTEGER NOT NULL,\n",
        "  PRIMARY KEY (dnumber, dlocation)\n",
        "  FOREIGN KEY (dlocation) REFERENCES \"LOCATION\" (\"location\")\n",
        ");\n",
        "''')"
      ],
      "metadata": {
        "colab": {
          "base_uri": "https://localhost:8080/"
        },
        "id": "2ooObqgML-4k",
        "outputId": "d9f14507-f4e1-435d-af21-4684ece75776"
      },
      "execution_count": null,
      "outputs": [
        {
          "output_type": "execute_result",
          "data": {
            "text/plain": [
              "<sqlite3.Cursor at 0x78e598495bc0>"
            ]
          },
          "metadata": {},
          "execution_count": 148
        }
      ]
    },
    {
      "cell_type": "markdown",
      "source": [
        "Just like the departments, projects can exist in multiple locations and by summarizing their location in one table, we can easily analyze datas such as which part of the country has better health access and  which diseases are endemic."
      ],
      "metadata": {
        "id": "LvmO0sBc50u5"
      }
    },
    {
      "cell_type": "code",
      "source": [
        "conn.execute('''\n",
        "CREATE TABLE \"PROJECT LOCATION\" (\n",
        "  plocation TEXT NOT NULL,\n",
        "  pnumber INTEGER NOT NULL,\n",
        "  PRIMARY KEY (plocation, pnumber),\n",
        "  FOREIGN KEY (plocation) REFERENCES \"LOCATION\" (\"location\")\n",
        ");\n",
        "''')"
      ],
      "metadata": {
        "colab": {
          "base_uri": "https://localhost:8080/"
        },
        "id": "ymXwq1rnM3oN",
        "outputId": "700eae9b-676c-4e21-da2a-f06128f2fe90"
      },
      "execution_count": null,
      "outputs": [
        {
          "output_type": "execute_result",
          "data": {
            "text/plain": [
              "<sqlite3.Cursor at 0x78e598495c40>"
            ]
          },
          "metadata": {},
          "execution_count": 149
        }
      ]
    },
    {
      "cell_type": "markdown",
      "source": [
        "* In employee table, since name can have duplicates, the unique social service number (ssn) is set as a primary key.\n",
        "* Name is divided into three columns : fname for first name, minit for middle name and lname for lastname.\n",
        "* While information such as address, salary and department number become mandatory to fill , the rest are set as optional.\n",
        "* superssn is also included to see the supervisor of each employ, which helps to visualize the hierarchical pattern of the organization.\n",
        "\n"
      ],
      "metadata": {
        "id": "maKC38sCOL_p"
      }
    },
    {
      "cell_type": "code",
      "source": [
        "# remove the foreign key, d_no, form the table, since it is cycling.\n",
        "# however, employee's ssn primary key will be referenced as a foreign key from the department table to preserve the connections.\n",
        "conn.execute('''\n",
        "CREATE TABLE \"EMPLOYEE\" (\n",
        "  ssn INTEGER PRIMARY KEY,\n",
        "  fname TEXT NOT NULL,\n",
        "  minit TEXT,\n",
        "  lname TEXT NOT NULL,\n",
        "  address TEXT NOT NULL,\n",
        "  bdate TEXT,\n",
        "  salary REAL NOT NULL,\n",
        "  sex CHAR,\n",
        "  dno INTEGER NOT NULL,\n",
        "  superssn INTEGER NOT NULL,\n",
        "  FOREIGN KEY (superssn) REFERENCES \"EMPLOYEE\" (ssn)\n",
        ");\n",
        "''')\n"
      ],
      "metadata": {
        "colab": {
          "base_uri": "https://localhost:8080/"
        },
        "id": "f3cnuMvuPyVQ",
        "outputId": "2bed6576-3472-42c8-e56d-576fc995b706"
      },
      "execution_count": null,
      "outputs": [
        {
          "output_type": "execute_result",
          "data": {
            "text/plain": [
              "<sqlite3.Cursor at 0x78e598495cc0>"
            ]
          },
          "metadata": {},
          "execution_count": 150
        }
      ]
    },
    {
      "cell_type": "code",
      "source": [
        "conn.execute('''\n",
        "CREATE TABLE \"DEPARTMENT\" (\n",
        "  dnumber INTEGER PRIMARY KEY,\n",
        "  dname TEXT NOT NULL,\n",
        "  dwebsite TEXT NOT NULL,\n",
        "  funding REAL NOT NULL,\n",
        "  mgr_ssn INTEGER NOT NULL,\n",
        "  FOREIGN KEY (mgr_ssn) REFERENCES \"EMPLOYEE\" (ssn)\n",
        ");\n",
        "''')"
      ],
      "metadata": {
        "colab": {
          "base_uri": "https://localhost:8080/"
        },
        "id": "nbyFD7pANMlO",
        "outputId": "653a851e-d907-4049-8a1f-242041248f68"
      },
      "execution_count": null,
      "outputs": [
        {
          "output_type": "execute_result",
          "data": {
            "text/plain": [
              "<sqlite3.Cursor at 0x78e598495d40>"
            ]
          },
          "metadata": {},
          "execution_count": 151
        }
      ]
    },
    {
      "cell_type": "markdown",
      "source": [
        "Project table will describe all the detail information of the project."
      ],
      "metadata": {
        "id": "5u9C06WM_jri"
      }
    },
    {
      "cell_type": "code",
      "source": [
        "conn.execute('''\n",
        "CREATE TABLE \"PROJECT\" (\n",
        "  pnumber INTEGER PRIMARY KEY,\n",
        "  pname TEXT NOT NULL,\n",
        "  plocation TEXT NOT NULL,\n",
        "  dwebpage TEXT,\n",
        "  expense REAL NOT NULL,\n",
        "  dnum INTEGER NOT NULL,\n",
        "  FOREIGN KEY (plocation) REFERENCES \"PROJECT LOCATION\" (plocation),\n",
        "  FOREIGN KEY (dnum) REFERENCES \"DEPARTMENT\" (dnumber)\n",
        ");\n",
        "''')"
      ],
      "metadata": {
        "colab": {
          "base_uri": "https://localhost:8080/"
        },
        "id": "xGrkr0oGPn-h",
        "outputId": "311c8b2b-354f-4abf-cdda-642adfdd2b53"
      },
      "execution_count": null,
      "outputs": [
        {
          "output_type": "execute_result",
          "data": {
            "text/plain": [
              "<sqlite3.Cursor at 0x78e598459040>"
            ]
          },
          "metadata": {},
          "execution_count": 152
        }
      ]
    },
    {
      "cell_type": "markdown",
      "source": [
        "To reflect performance of the employees, employ project is created. This table will include how many hours do the employ contribute to his project, employee id to specify the employee and project id to specify the project. To connect the project with the individual employees, the unique employee specific project_id is set as a primary key."
      ],
      "metadata": {
        "id": "gD4ywxuJ_o4p"
      }
    },
    {
      "cell_type": "code",
      "source": [
        "conn.execute('''\n",
        "CREATE TABLE \"EMPLOYEE_PROJECT\" (\n",
        "  project_id INTEGER PRIMARY KEY,\n",
        "  hours INTEGER NOT NULL,\n",
        "  ssn INTEGER NOT NULL,\n",
        "  pnumber INTEGER NOT NULL,\n",
        "  FOREIGN KEY (ssn) REFERENCES \"EMPLOYEE\" (ssn),\n",
        "  FOREIGN KEY (pnumber) REFERENCES \"PROJECT\" (pnumber)\n",
        ");\n",
        "''')"
      ],
      "metadata": {
        "colab": {
          "base_uri": "https://localhost:8080/"
        },
        "id": "s1Ml6aeSPd-x",
        "outputId": "3d2e5fff-a850-425c-9c4a-74d94116f13a"
      },
      "execution_count": null,
      "outputs": [
        {
          "output_type": "execute_result",
          "data": {
            "text/plain": [
              "<sqlite3.Cursor at 0x78e598495ec0>"
            ]
          },
          "metadata": {},
          "execution_count": 153
        }
      ]
    },
    {
      "cell_type": "markdown",
      "source": [
        "Even though this tables is named dependent, it will act as a guardian table in case of patients and dependent table in case of employees.\n"
      ],
      "metadata": {
        "id": "W9aDJeCzBKFY"
      }
    },
    {
      "cell_type": "code",
      "source": [
        "conn.execute('''\n",
        "CREATE TABLE \"DEPENDENT\" (\n",
        "  dependent_name TEXT NOT NULL,\n",
        "  \"dependent_SSN\" INTEGER,\n",
        "  sex TEXT NOT NULL,\n",
        "  bdate TEXT,\n",
        "  relationship TEXT,\n",
        "  essn INTEGER NOT NULL,\n",
        "  PRIMARY KEY (dependent_name, \"dependent_SSN\"),\n",
        "  FOREIGN KEY (essn) REFERENCES \"EMPLOYEE\" (ssn)\n",
        ");\n",
        "''')"
      ],
      "metadata": {
        "colab": {
          "base_uri": "https://localhost:8080/"
        },
        "id": "y9L58hXSPrWY",
        "outputId": "98047c01-7943-4650-ff64-4c7a24514f99"
      },
      "execution_count": null,
      "outputs": [
        {
          "output_type": "execute_result",
          "data": {
            "text/plain": [
              "<sqlite3.Cursor at 0x78e5984960c0>"
            ]
          },
          "metadata": {},
          "execution_count": 154
        }
      ]
    },
    {
      "cell_type": "markdown",
      "source": [
        "Every organization hosts an award system to promote employee satisfication. This table will connect employ names, his ssn and his winning projects."
      ],
      "metadata": {
        "id": "s2pOzg3dBYvw"
      }
    },
    {
      "cell_type": "code",
      "source": [
        "conn.execute('''\n",
        "CREATE TABLE \"ANNUAL REWARD\" (\n",
        "  \"rewardName\" TEXT PRIMARY KEY,\n",
        "  winner_ssn INTEGER NOT NULL,\n",
        "  dnumber INTEGER NOT NULL,\n",
        "  pnumber INTEGER NOT NULL,\n",
        "  FOREIGN KEY (winner_ssn) REFERENCES \"EMPLOYEE\" (ssn),\n",
        "  FOREIGN KEY (dnumber) REFERENCES \"DEPARTMENT\" (dnumber),\n",
        "  FOREIGN KEY (pnumber) REFERENCES \"PROJECT\" (pnumber)\n",
        ");\n",
        "''')"
      ],
      "metadata": {
        "colab": {
          "base_uri": "https://localhost:8080/"
        },
        "id": "GzO52ux7PAac",
        "outputId": "2c01ad95-86fc-40b7-9bda-664b12617236"
      },
      "execution_count": null,
      "outputs": [
        {
          "output_type": "execute_result",
          "data": {
            "text/plain": [
              "<sqlite3.Cursor at 0x78e5984963c0>"
            ]
          },
          "metadata": {},
          "execution_count": 155
        }
      ]
    },
    {
      "cell_type": "markdown",
      "source": [
        "\n",
        "\n",
        "*  This table is the most detailed and largest table of the whole data set.\n",
        "*  It will store all the necessay details such as blood type, address, sex, membership, hospitalization duration, department location as not null datatype.\n",
        "\n"
      ],
      "metadata": {
        "id": "wyvblcSvCNCn"
      }
    },
    {
      "cell_type": "code",
      "source": [
        "conn.execute('''\n",
        "CREATE TABLE \"PATIENT\" (\n",
        "  patient_id INTEGER PRIMARY KEY,\n",
        "  patient_name TEXT NOT NULL,\n",
        "  \"blood type\" TEXT NOT NULL,\n",
        "  address TEXT NOT NULL,\n",
        "  sex TEXT NOT NULL,\n",
        "  membership BOOLEAN NOT NULL,\n",
        "  \"period of stay\" TEXT NOT NULL,\n",
        "  project_number INTEGER NOT NULL,\n",
        "  dept_category INTEGER NOT NULL,\n",
        "  ward_location TEXT NOT NULL,\n",
        "  guardian_name TEXT NOT NULL,\n",
        "  \"EMPLOYEE_ssn\" INTEGER NOT NULL,\n",
        "  guardian_id INTEGER,\n",
        "  FOREIGN KEY (project_number) REFERENCES \"PROJECT\" (pnumber),\n",
        "  FOREIGN KEY (dept_category) REFERENCES \"DEPARTMENT\" (dnumber),\n",
        "  FOREIGN KEY (ward_location) REFERENCES \"LOCATION\" (\"location\"),\n",
        "  FOREIGN KEY (guardian_name, guardian_id) REFERENCES \"DEPENDENT\" (dependent_name, \"dependent_SSN\"),\n",
        "  FOREIGN KEY (\"EMPLOYEE_ssn\") REFERENCES \"EMPLOYEE\" (ssn)\n",
        ");\n",
        "\n",
        "''')\n"
      ],
      "metadata": {
        "colab": {
          "base_uri": "https://localhost:8080/"
        },
        "id": "uAGImxmmP1i5",
        "outputId": "35ed113d-fb6b-4b7b-beec-223701305464"
      },
      "execution_count": null,
      "outputs": [
        {
          "output_type": "execute_result",
          "data": {
            "text/plain": [
              "<sqlite3.Cursor at 0x78e5984964c0>"
            ]
          },
          "metadata": {},
          "execution_count": 156
        }
      ]
    },
    {
      "cell_type": "code",
      "source": [
        "conn.execute('''\n",
        "CREATE TABLE \"MEMBERSHIP\" (\n",
        "  membership_id INTEGER PRIMARY KEY,\n",
        "  period TEXT NOT NULL,\n",
        "  \"PATIENT_patient_id\" INTEGER NOT NULL,\n",
        "  FOREIGN KEY (\"PATIENT_patient_id\") REFERENCES \"PATIENT\" (patient_id)\n",
        ");\n",
        "''')"
      ],
      "metadata": {
        "colab": {
          "base_uri": "https://localhost:8080/"
        },
        "id": "R9u4cQ-6PjUv",
        "outputId": "2bd5548d-fc96-48d0-adf9-6c54276e868b"
      },
      "execution_count": null,
      "outputs": [
        {
          "output_type": "execute_result",
          "data": {
            "text/plain": [
              "<sqlite3.Cursor at 0x78e5984966c0>"
            ]
          },
          "metadata": {},
          "execution_count": 157
        }
      ]
    },
    {
      "cell_type": "code",
      "source": [
        "conn.execute('''\n",
        "CREATE TABLE \"FINANCE\" (\n",
        "  finance_id NUMERIC PRIMARY KEY,\n",
        "  \"profit\" NUMERIC NOT NULL,\n",
        "  loss NUMERIC NOT NULL,\n",
        "  \"EMPLOYEE_ssn\" INTEGER NOT NULL,\n",
        "  \"PROJECT_pnumber\" INTEGER NOT NULL,\n",
        "  \"PATIENT_patient_id\" INTEGER NOT NULL,\n",
        "  \"MEMBERSHIP_membership_id\" INTEGER NOT NULL,\n",
        "  FOREIGN KEY (\"EMPLOYEE_ssn\") REFERENCES \"EMPLOYEE\" (ssn),\n",
        "  FOREIGN KEY (\"PROJECT_pnumber\") REFERENCES \"PROJECT\" (pnumber),\n",
        "  FOREIGN KEY (\"PATIENT_patient_id\") REFERENCES \"PATIENT\" (patient_id),\n",
        "  FOREIGN KEY (\"MEMBERSHIP_membership_id\") REFERENCES \"MEMBERSHIP\" (membership_id)\n",
        ");\n",
        "''')"
      ],
      "metadata": {
        "colab": {
          "base_uri": "https://localhost:8080/"
        },
        "id": "5nRDVmDAPvBx",
        "outputId": "e75c9134-ac22-473e-d1df-8b7cc035f283"
      },
      "execution_count": null,
      "outputs": [
        {
          "output_type": "execute_result",
          "data": {
            "text/plain": [
              "<sqlite3.Cursor at 0x78e598496740>"
            ]
          },
          "metadata": {},
          "execution_count": 158
        }
      ]
    },
    {
      "cell_type": "code",
      "source": [
        "# Commit the changes and close the connection\n",
        "conn.commit()\n",
        "conn.close()"
      ],
      "metadata": {
        "id": "peWhcmGx2ZhU"
      },
      "execution_count": null,
      "outputs": []
    },
    {
      "cell_type": "markdown",
      "source": [
        "> Sqlite does not support cstring, date, money datatypes. So, cstring and dates are replaced by Text and money is replace by REAL datatypes."
      ],
      "metadata": {
        "id": "n0oEuxzd7jFf"
      }
    },
    {
      "cell_type": "markdown",
      "source": [
        "# Checking the created tables"
      ],
      "metadata": {
        "id": "9nkiUtcVFIGC"
      }
    },
    {
      "cell_type": "code",
      "source": [
        "# check the created tables\n",
        "# Connect to SQLite Database\n",
        "conn = sqlite3.connect('hospital_database.db')\n",
        "\n",
        "# List all tables in the database\n",
        "cursor = conn.execute(\"SELECT name FROM sqlite_master WHERE type='table';\")\n",
        "tables = [table[0] for table in cursor.fetchall()]\n",
        "i=1\n",
        "for table in tables:\n",
        "\n",
        "  print(f\"{i}. {table}\")\n",
        "  i += 1\n",
        "\n",
        "# Close the database connection\n",
        "conn.close()"
      ],
      "metadata": {
        "colab": {
          "base_uri": "https://localhost:8080/"
        },
        "id": "OgOhaui-DKb9",
        "outputId": "26e266bd-baa4-4579-9a59-bcb17d784c9d"
      },
      "execution_count": null,
      "outputs": [
        {
          "output_type": "stream",
          "name": "stdout",
          "text": [
            "1. LOCATION\n",
            "2. DEPARTMENT_LOCATION\n",
            "3. PROJECT LOCATION\n",
            "4. EMPLOYEE\n",
            "5. DEPARTMENT\n",
            "6. PROJECT\n",
            "7. EMPLOYEE_PROJECT\n",
            "8. DEPENDENT\n",
            "9. ANNUAL REWARD\n",
            "10. PATIENT\n",
            "11. MEMBERSHIP\n",
            "12. FINANCE\n"
          ]
        }
      ]
    },
    {
      "cell_type": "markdown",
      "source": [
        "# Filling the table with datas"
      ],
      "metadata": {
        "id": "4S6oqL2bFMFS"
      }
    },
    {
      "cell_type": "code",
      "source": [
        "conn = sqlite3.connect('hospital_database.db')  # reopen the database\n",
        "print(\"Opened database successfully\")"
      ],
      "metadata": {
        "colab": {
          "base_uri": "https://localhost:8080/"
        },
        "id": "sA76kwJtF_RK",
        "outputId": "56d2af0b-3b0b-4031-a4ec-15ae8b485edd"
      },
      "execution_count": null,
      "outputs": [
        {
          "output_type": "stream",
          "name": "stdout",
          "text": [
            "Opened database successfully\n"
          ]
        }
      ]
    },
    {
      "cell_type": "code",
      "source": [
        "conn.execute(\"INSERT INTO LOCATION (location) VALUES ('Seoul')\");\n",
        "conn.execute(\"INSERT INTO LOCATION (location) VALUES ('Incheon')\");\n",
        "conn.execute(\"INSERT INTO LOCATION (location) VALUES ('Ansan')\");\n",
        "conn.execute(\"INSERT INTO LOCATION (location) VALUES ('Busan')\");\n",
        "conn.commit()\n",
        "print(\"Locations inserted successfully\")\n",
        "\n"
      ],
      "metadata": {
        "colab": {
          "base_uri": "https://localhost:8080/"
        },
        "id": "O1UyLGAQFUFE",
        "outputId": "1bf350c6-f365-45f6-c5c3-dba4472c3ba1"
      },
      "execution_count": null,
      "outputs": [
        {
          "output_type": "stream",
          "name": "stdout",
          "text": [
            "Locations inserted successfully\n"
          ]
        }
      ]
    },
    {
      "cell_type": "code",
      "source": [
        "# print out the rows from location table\n",
        "cursor = conn.execute(\"SELECT location from LOCATION\")\n",
        "for row in cursor:\n",
        "  print(\"Location\", row)\n",
        "\n",
        "\n"
      ],
      "metadata": {
        "colab": {
          "base_uri": "https://localhost:8080/"
        },
        "id": "CCO1Z-cIGNux",
        "outputId": "61c0e671-7730-4826-e20c-23a5e5c7b133"
      },
      "execution_count": null,
      "outputs": [
        {
          "output_type": "stream",
          "name": "stdout",
          "text": [
            "Location ('Seoul',)\n",
            "Location ('Incheon',)\n",
            "Location ('Ansan',)\n",
            "Location ('Busan',)\n"
          ]
        }
      ]
    },
    {
      "cell_type": "code",
      "source": [
        "# inserting more dummy database into location table\n",
        "for i in range(4, 30):\n",
        "    conn.execute(f\"INSERT INTO LOCATION (location) VALUES ('Location{i}');\")\n",
        "conn.commit()\n",
        "print(\"dummy datas inserted successfully.\")\n"
      ],
      "metadata": {
        "colab": {
          "base_uri": "https://localhost:8080/"
        },
        "id": "m0fMlPF9G72g",
        "outputId": "29979f60-bd38-4c4a-e079-10df5408186a"
      },
      "execution_count": null,
      "outputs": [
        {
          "output_type": "stream",
          "name": "stdout",
          "text": [
            "dummy datas inserted successfully.\n"
          ]
        }
      ]
    },
    {
      "cell_type": "code",
      "source": [
        "# print out new table after adding dummy data\n",
        "cursor = conn.execute(\"SELECT location from LOCATION\")\n",
        "for row in cursor:\n",
        "  print(\"Location\", row)"
      ],
      "metadata": {
        "colab": {
          "base_uri": "https://localhost:8080/"
        },
        "id": "OIJxoQ5pH06Q",
        "outputId": "402d2144-be09-4681-dd96-741b053929c9"
      },
      "execution_count": null,
      "outputs": [
        {
          "output_type": "stream",
          "name": "stdout",
          "text": [
            "Location ('Seoul',)\n",
            "Location ('Incheon',)\n",
            "Location ('Ansan',)\n",
            "Location ('Busan',)\n",
            "Location ('Location4',)\n",
            "Location ('Location5',)\n",
            "Location ('Location6',)\n",
            "Location ('Location7',)\n",
            "Location ('Location8',)\n",
            "Location ('Location9',)\n",
            "Location ('Location10',)\n",
            "Location ('Location11',)\n",
            "Location ('Location12',)\n",
            "Location ('Location13',)\n",
            "Location ('Location14',)\n",
            "Location ('Location15',)\n",
            "Location ('Location16',)\n",
            "Location ('Location17',)\n",
            "Location ('Location18',)\n",
            "Location ('Location19',)\n",
            "Location ('Location20',)\n",
            "Location ('Location21',)\n",
            "Location ('Location22',)\n",
            "Location ('Location23',)\n",
            "Location ('Location24',)\n",
            "Location ('Location25',)\n",
            "Location ('Location26',)\n",
            "Location ('Location27',)\n",
            "Location ('Location28',)\n",
            "Location ('Location29',)\n"
          ]
        }
      ]
    },
    {
      "cell_type": "code",
      "source": [
        "# adding 5 rows of dummy data to department location table\n",
        "for i in range(4,30):\n",
        "    conn.execute(f\"INSERT INTO DEPARTMENT_LOCATION (dlocation,dnumber) VALUES ('Location{i}','{i}');\")\n",
        "conn.commit()\n",
        "print(\"dummy datas inserted successfully.\")"
      ],
      "metadata": {
        "colab": {
          "base_uri": "https://localhost:8080/"
        },
        "id": "zYe3GkF6IJd5",
        "outputId": "eff5580b-ae0b-44fa-c40b-17e74f57eba8"
      },
      "execution_count": null,
      "outputs": [
        {
          "output_type": "stream",
          "name": "stdout",
          "text": [
            "dummy datas inserted successfully.\n"
          ]
        }
      ]
    },
    {
      "cell_type": "code",
      "source": [
        "# print out new table after adding dummy data\n",
        "cursor = conn.execute(\"SELECT dlocation,dnumber from DEPARTMENT_LOCATION\")\n",
        "for row in cursor:\n",
        "  print(f\"Location :{row[0]}\")\n",
        "  print(f\"Dept :{row[1]}\\n\")\n"
      ],
      "metadata": {
        "colab": {
          "base_uri": "https://localhost:8080/"
        },
        "id": "WrB0zC4CK2d1",
        "outputId": "f5c84c4a-f642-4d8b-f5e0-f137bd788180"
      },
      "execution_count": null,
      "outputs": [
        {
          "output_type": "stream",
          "name": "stdout",
          "text": [
            "Location :Location4\n",
            "Dept :4\n",
            "\n",
            "Location :Location5\n",
            "Dept :5\n",
            "\n",
            "Location :Location6\n",
            "Dept :6\n",
            "\n",
            "Location :Location7\n",
            "Dept :7\n",
            "\n",
            "Location :Location8\n",
            "Dept :8\n",
            "\n",
            "Location :Location9\n",
            "Dept :9\n",
            "\n",
            "Location :Location10\n",
            "Dept :10\n",
            "\n",
            "Location :Location11\n",
            "Dept :11\n",
            "\n",
            "Location :Location12\n",
            "Dept :12\n",
            "\n",
            "Location :Location13\n",
            "Dept :13\n",
            "\n",
            "Location :Location14\n",
            "Dept :14\n",
            "\n",
            "Location :Location15\n",
            "Dept :15\n",
            "\n",
            "Location :Location16\n",
            "Dept :16\n",
            "\n",
            "Location :Location17\n",
            "Dept :17\n",
            "\n",
            "Location :Location18\n",
            "Dept :18\n",
            "\n",
            "Location :Location19\n",
            "Dept :19\n",
            "\n",
            "Location :Location20\n",
            "Dept :20\n",
            "\n",
            "Location :Location21\n",
            "Dept :21\n",
            "\n",
            "Location :Location22\n",
            "Dept :22\n",
            "\n",
            "Location :Location23\n",
            "Dept :23\n",
            "\n",
            "Location :Location24\n",
            "Dept :24\n",
            "\n",
            "Location :Location25\n",
            "Dept :25\n",
            "\n",
            "Location :Location26\n",
            "Dept :26\n",
            "\n",
            "Location :Location27\n",
            "Dept :27\n",
            "\n",
            "Location :Location28\n",
            "Dept :28\n",
            "\n",
            "Location :Location29\n",
            "Dept :29\n",
            "\n"
          ]
        }
      ]
    },
    {
      "cell_type": "code",
      "source": [
        "for i in range(4,30):\n",
        "    conn.execute(f\"INSERT INTO 'PROJECT LOCATION' (plocation,pnumber) VALUES ('Location{i}','{i}');\")\n",
        "conn.commit()\n",
        "print(\"dummy datas inserted into project location table successfully.\")\n",
        "\n",
        "for i in range(4,30):\n",
        "    conn.execute(f\"INSERT INTO 'EMPLOYEE' (ssn,fname,minit,lname,address,bdate,salary,sex,dno,superssn) VALUES ('{i}','fname{i}','minit{i}','lname{i}','Location{i}','{i+2010}','{i*20000}','F','{i}', '{i}');\")\n",
        "conn.commit()\n",
        "print(\"dummy datas inserted into employee table successfully.\")\n",
        "\n",
        "\n",
        "\n"
      ],
      "metadata": {
        "colab": {
          "base_uri": "https://localhost:8080/"
        },
        "id": "-CoIRm-3ML2N",
        "outputId": "b8af14ab-b3c4-4ad8-b689-112052da83d0"
      },
      "execution_count": null,
      "outputs": [
        {
          "output_type": "stream",
          "name": "stdout",
          "text": [
            "dummy datas inserted into project location table successfully.\n",
            "dummy datas inserted into employee table successfully.\n"
          ]
        }
      ]
    },
    {
      "cell_type": "code",
      "source": [
        "# printing out data from employee table\n",
        "cursor = conn.execute(\"SELECT ssn, fname, minit,lname,address,bdate,salary,sex,dno,superssn from 'EMPLOYEE'\")\n",
        "for row in cursor:\n",
        "  print(f\"Social Service Number :{row[0]}\")\n",
        "  print(f\"First name :{row[1]}\")\n",
        "  print(f\"Middle name :{row[2]}\")\n",
        "  print(f\"Last name :{row[3]}\")\n",
        "  print(f\"Address : {row[4]}\")\n",
        "  print(f\"Birth Year :{row[5]}\")\n",
        "  print(f\"Salary: {row[6]}\")\n",
        "  print(f\"Sex : {row[7]}\")\n",
        "  print(f\"Dept number : {row[8]}\")\n",
        "  print(f\"Supervisior social service number : {row[9]}\")\n",
        "  print('\\n')\n"
      ],
      "metadata": {
        "colab": {
          "base_uri": "https://localhost:8080/"
        },
        "id": "6x2GK4a-JfO9",
        "outputId": "19de196c-9d40-494c-f1c7-d2868737ae40"
      },
      "execution_count": null,
      "outputs": [
        {
          "output_type": "stream",
          "name": "stdout",
          "text": [
            "Social Service Number :4\n",
            "First name :fname4\n",
            "Middle name :minit4\n",
            "Last name :lname4\n",
            "Address : Location4\n",
            "Birth Year :2014\n",
            "Salary: 80000.0\n",
            "Sex : F\n",
            "Dept number : 4\n",
            "Supervisior social service number : 4\n",
            "\n",
            "\n",
            "Social Service Number :5\n",
            "First name :fname5\n",
            "Middle name :minit5\n",
            "Last name :lname5\n",
            "Address : Location5\n",
            "Birth Year :2015\n",
            "Salary: 100000.0\n",
            "Sex : F\n",
            "Dept number : 5\n",
            "Supervisior social service number : 5\n",
            "\n",
            "\n",
            "Social Service Number :6\n",
            "First name :fname6\n",
            "Middle name :minit6\n",
            "Last name :lname6\n",
            "Address : Location6\n",
            "Birth Year :2016\n",
            "Salary: 120000.0\n",
            "Sex : F\n",
            "Dept number : 6\n",
            "Supervisior social service number : 6\n",
            "\n",
            "\n",
            "Social Service Number :7\n",
            "First name :fname7\n",
            "Middle name :minit7\n",
            "Last name :lname7\n",
            "Address : Location7\n",
            "Birth Year :2017\n",
            "Salary: 140000.0\n",
            "Sex : F\n",
            "Dept number : 7\n",
            "Supervisior social service number : 7\n",
            "\n",
            "\n",
            "Social Service Number :8\n",
            "First name :fname8\n",
            "Middle name :minit8\n",
            "Last name :lname8\n",
            "Address : Location8\n",
            "Birth Year :2018\n",
            "Salary: 160000.0\n",
            "Sex : F\n",
            "Dept number : 8\n",
            "Supervisior social service number : 8\n",
            "\n",
            "\n",
            "Social Service Number :9\n",
            "First name :fname9\n",
            "Middle name :minit9\n",
            "Last name :lname9\n",
            "Address : Location9\n",
            "Birth Year :2019\n",
            "Salary: 180000.0\n",
            "Sex : F\n",
            "Dept number : 9\n",
            "Supervisior social service number : 9\n",
            "\n",
            "\n",
            "Social Service Number :10\n",
            "First name :fname10\n",
            "Middle name :minit10\n",
            "Last name :lname10\n",
            "Address : Location10\n",
            "Birth Year :2020\n",
            "Salary: 200000.0\n",
            "Sex : F\n",
            "Dept number : 10\n",
            "Supervisior social service number : 10\n",
            "\n",
            "\n",
            "Social Service Number :11\n",
            "First name :fname11\n",
            "Middle name :minit11\n",
            "Last name :lname11\n",
            "Address : Location11\n",
            "Birth Year :2021\n",
            "Salary: 220000.0\n",
            "Sex : F\n",
            "Dept number : 11\n",
            "Supervisior social service number : 11\n",
            "\n",
            "\n",
            "Social Service Number :12\n",
            "First name :fname12\n",
            "Middle name :minit12\n",
            "Last name :lname12\n",
            "Address : Location12\n",
            "Birth Year :2022\n",
            "Salary: 240000.0\n",
            "Sex : F\n",
            "Dept number : 12\n",
            "Supervisior social service number : 12\n",
            "\n",
            "\n",
            "Social Service Number :13\n",
            "First name :fname13\n",
            "Middle name :minit13\n",
            "Last name :lname13\n",
            "Address : Location13\n",
            "Birth Year :2023\n",
            "Salary: 260000.0\n",
            "Sex : F\n",
            "Dept number : 13\n",
            "Supervisior social service number : 13\n",
            "\n",
            "\n",
            "Social Service Number :14\n",
            "First name :fname14\n",
            "Middle name :minit14\n",
            "Last name :lname14\n",
            "Address : Location14\n",
            "Birth Year :2024\n",
            "Salary: 280000.0\n",
            "Sex : F\n",
            "Dept number : 14\n",
            "Supervisior social service number : 14\n",
            "\n",
            "\n",
            "Social Service Number :15\n",
            "First name :fname15\n",
            "Middle name :minit15\n",
            "Last name :lname15\n",
            "Address : Location15\n",
            "Birth Year :2025\n",
            "Salary: 300000.0\n",
            "Sex : F\n",
            "Dept number : 15\n",
            "Supervisior social service number : 15\n",
            "\n",
            "\n",
            "Social Service Number :16\n",
            "First name :fname16\n",
            "Middle name :minit16\n",
            "Last name :lname16\n",
            "Address : Location16\n",
            "Birth Year :2026\n",
            "Salary: 320000.0\n",
            "Sex : F\n",
            "Dept number : 16\n",
            "Supervisior social service number : 16\n",
            "\n",
            "\n",
            "Social Service Number :17\n",
            "First name :fname17\n",
            "Middle name :minit17\n",
            "Last name :lname17\n",
            "Address : Location17\n",
            "Birth Year :2027\n",
            "Salary: 340000.0\n",
            "Sex : F\n",
            "Dept number : 17\n",
            "Supervisior social service number : 17\n",
            "\n",
            "\n",
            "Social Service Number :18\n",
            "First name :fname18\n",
            "Middle name :minit18\n",
            "Last name :lname18\n",
            "Address : Location18\n",
            "Birth Year :2028\n",
            "Salary: 360000.0\n",
            "Sex : F\n",
            "Dept number : 18\n",
            "Supervisior social service number : 18\n",
            "\n",
            "\n",
            "Social Service Number :19\n",
            "First name :fname19\n",
            "Middle name :minit19\n",
            "Last name :lname19\n",
            "Address : Location19\n",
            "Birth Year :2029\n",
            "Salary: 380000.0\n",
            "Sex : F\n",
            "Dept number : 19\n",
            "Supervisior social service number : 19\n",
            "\n",
            "\n",
            "Social Service Number :20\n",
            "First name :fname20\n",
            "Middle name :minit20\n",
            "Last name :lname20\n",
            "Address : Location20\n",
            "Birth Year :2030\n",
            "Salary: 400000.0\n",
            "Sex : F\n",
            "Dept number : 20\n",
            "Supervisior social service number : 20\n",
            "\n",
            "\n",
            "Social Service Number :21\n",
            "First name :fname21\n",
            "Middle name :minit21\n",
            "Last name :lname21\n",
            "Address : Location21\n",
            "Birth Year :2031\n",
            "Salary: 420000.0\n",
            "Sex : F\n",
            "Dept number : 21\n",
            "Supervisior social service number : 21\n",
            "\n",
            "\n",
            "Social Service Number :22\n",
            "First name :fname22\n",
            "Middle name :minit22\n",
            "Last name :lname22\n",
            "Address : Location22\n",
            "Birth Year :2032\n",
            "Salary: 440000.0\n",
            "Sex : F\n",
            "Dept number : 22\n",
            "Supervisior social service number : 22\n",
            "\n",
            "\n",
            "Social Service Number :23\n",
            "First name :fname23\n",
            "Middle name :minit23\n",
            "Last name :lname23\n",
            "Address : Location23\n",
            "Birth Year :2033\n",
            "Salary: 460000.0\n",
            "Sex : F\n",
            "Dept number : 23\n",
            "Supervisior social service number : 23\n",
            "\n",
            "\n",
            "Social Service Number :24\n",
            "First name :fname24\n",
            "Middle name :minit24\n",
            "Last name :lname24\n",
            "Address : Location24\n",
            "Birth Year :2034\n",
            "Salary: 480000.0\n",
            "Sex : F\n",
            "Dept number : 24\n",
            "Supervisior social service number : 24\n",
            "\n",
            "\n",
            "Social Service Number :25\n",
            "First name :fname25\n",
            "Middle name :minit25\n",
            "Last name :lname25\n",
            "Address : Location25\n",
            "Birth Year :2035\n",
            "Salary: 500000.0\n",
            "Sex : F\n",
            "Dept number : 25\n",
            "Supervisior social service number : 25\n",
            "\n",
            "\n",
            "Social Service Number :26\n",
            "First name :fname26\n",
            "Middle name :minit26\n",
            "Last name :lname26\n",
            "Address : Location26\n",
            "Birth Year :2036\n",
            "Salary: 520000.0\n",
            "Sex : F\n",
            "Dept number : 26\n",
            "Supervisior social service number : 26\n",
            "\n",
            "\n",
            "Social Service Number :27\n",
            "First name :fname27\n",
            "Middle name :minit27\n",
            "Last name :lname27\n",
            "Address : Location27\n",
            "Birth Year :2037\n",
            "Salary: 540000.0\n",
            "Sex : F\n",
            "Dept number : 27\n",
            "Supervisior social service number : 27\n",
            "\n",
            "\n",
            "Social Service Number :28\n",
            "First name :fname28\n",
            "Middle name :minit28\n",
            "Last name :lname28\n",
            "Address : Location28\n",
            "Birth Year :2038\n",
            "Salary: 560000.0\n",
            "Sex : F\n",
            "Dept number : 28\n",
            "Supervisior social service number : 28\n",
            "\n",
            "\n",
            "Social Service Number :29\n",
            "First name :fname29\n",
            "Middle name :minit29\n",
            "Last name :lname29\n",
            "Address : Location29\n",
            "Birth Year :2039\n",
            "Salary: 580000.0\n",
            "Sex : F\n",
            "Dept number : 29\n",
            "Supervisior social service number : 29\n",
            "\n",
            "\n"
          ]
        }
      ]
    },
    {
      "cell_type": "code",
      "source": [
        "# conn.execute(\"DROP TABLE IF EXISTS DEPARTMENT;\")"
      ],
      "metadata": {
        "colab": {
          "base_uri": "https://localhost:8080/"
        },
        "id": "cxYw7NC6VRPd",
        "outputId": "41cde084-21ba-43ed-d836-c9ab74ffbb66"
      },
      "execution_count": null,
      "outputs": [
        {
          "output_type": "execute_result",
          "data": {
            "text/plain": [
              "<sqlite3.Cursor at 0x78e5ae1b6240>"
            ]
          },
          "metadata": {},
          "execution_count": 65
        }
      ]
    },
    {
      "cell_type": "code",
      "source": [
        "# Add dummy data into DEPARTMENT\n",
        "for i in range(4, 30):\n",
        "    conn.execute(f\"INSERT INTO DEPARTMENT (dnumber, dname, dwebsite, funding, mgr_ssn) VALUES ({i}, 'Dept{i}', 'www.{chr(i+65).lower()}dept.com', {i * 10000}, {i});\")\n",
        "conn.commit()\n",
        "print(\"Dummy data inserted into DEPARTMENT table successfully.\")\n"
      ],
      "metadata": {
        "colab": {
          "base_uri": "https://localhost:8080/"
        },
        "id": "ZHF1sBDIM2QY",
        "outputId": "1435470d-2454-4a41-aa73-5e3969e708a4"
      },
      "execution_count": null,
      "outputs": [
        {
          "output_type": "stream",
          "name": "stdout",
          "text": [
            "Dummy data inserted into DEPARTMENT table successfully.\n"
          ]
        }
      ]
    },
    {
      "cell_type": "code",
      "source": [
        "# printing out data form DEPARTMENT table\n",
        "cursor = conn.execute(\"SELECT dnumber, dname, dwebsite, funding, mgr_ssn from DEPARTMENT\")\n",
        "for row in cursor:\n",
        "  print(f\"Dept no :{row[0]}\")\n",
        "  print(f\"Dept name :{row[1]}\")\n",
        "  print(f\"Website :{row[2]}\")\n",
        "  print(f\"Total funds :{row[3]}\")\n",
        "  print(f\"Manager SSN : {row[4]}\")\n",
        "  print('\\n')"
      ],
      "metadata": {
        "colab": {
          "base_uri": "https://localhost:8080/"
        },
        "id": "Qc1hyU9jUpUv",
        "outputId": "8d54c62b-d937-4242-ba2e-85297d6b17ba"
      },
      "execution_count": null,
      "outputs": [
        {
          "output_type": "stream",
          "name": "stdout",
          "text": [
            "Dept no :4\n",
            "Dept name :Dept4\n",
            "Website :www.edept.com\n",
            "Total funds :40000.0\n",
            "Manager SSN : 4\n",
            "\n",
            "\n",
            "Dept no :5\n",
            "Dept name :Dept5\n",
            "Website :www.fdept.com\n",
            "Total funds :50000.0\n",
            "Manager SSN : 5\n",
            "\n",
            "\n",
            "Dept no :6\n",
            "Dept name :Dept6\n",
            "Website :www.gdept.com\n",
            "Total funds :60000.0\n",
            "Manager SSN : 6\n",
            "\n",
            "\n",
            "Dept no :7\n",
            "Dept name :Dept7\n",
            "Website :www.hdept.com\n",
            "Total funds :70000.0\n",
            "Manager SSN : 7\n",
            "\n",
            "\n",
            "Dept no :8\n",
            "Dept name :Dept8\n",
            "Website :www.idept.com\n",
            "Total funds :80000.0\n",
            "Manager SSN : 8\n",
            "\n",
            "\n",
            "Dept no :9\n",
            "Dept name :Dept9\n",
            "Website :www.jdept.com\n",
            "Total funds :90000.0\n",
            "Manager SSN : 9\n",
            "\n",
            "\n",
            "Dept no :10\n",
            "Dept name :Dept10\n",
            "Website :www.kdept.com\n",
            "Total funds :100000.0\n",
            "Manager SSN : 10\n",
            "\n",
            "\n",
            "Dept no :11\n",
            "Dept name :Dept11\n",
            "Website :www.ldept.com\n",
            "Total funds :110000.0\n",
            "Manager SSN : 11\n",
            "\n",
            "\n",
            "Dept no :12\n",
            "Dept name :Dept12\n",
            "Website :www.mdept.com\n",
            "Total funds :120000.0\n",
            "Manager SSN : 12\n",
            "\n",
            "\n",
            "Dept no :13\n",
            "Dept name :Dept13\n",
            "Website :www.ndept.com\n",
            "Total funds :130000.0\n",
            "Manager SSN : 13\n",
            "\n",
            "\n",
            "Dept no :14\n",
            "Dept name :Dept14\n",
            "Website :www.odept.com\n",
            "Total funds :140000.0\n",
            "Manager SSN : 14\n",
            "\n",
            "\n",
            "Dept no :15\n",
            "Dept name :Dept15\n",
            "Website :www.pdept.com\n",
            "Total funds :150000.0\n",
            "Manager SSN : 15\n",
            "\n",
            "\n",
            "Dept no :16\n",
            "Dept name :Dept16\n",
            "Website :www.qdept.com\n",
            "Total funds :160000.0\n",
            "Manager SSN : 16\n",
            "\n",
            "\n",
            "Dept no :17\n",
            "Dept name :Dept17\n",
            "Website :www.rdept.com\n",
            "Total funds :170000.0\n",
            "Manager SSN : 17\n",
            "\n",
            "\n",
            "Dept no :18\n",
            "Dept name :Dept18\n",
            "Website :www.sdept.com\n",
            "Total funds :180000.0\n",
            "Manager SSN : 18\n",
            "\n",
            "\n",
            "Dept no :19\n",
            "Dept name :Dept19\n",
            "Website :www.tdept.com\n",
            "Total funds :190000.0\n",
            "Manager SSN : 19\n",
            "\n",
            "\n",
            "Dept no :20\n",
            "Dept name :Dept20\n",
            "Website :www.udept.com\n",
            "Total funds :200000.0\n",
            "Manager SSN : 20\n",
            "\n",
            "\n",
            "Dept no :21\n",
            "Dept name :Dept21\n",
            "Website :www.vdept.com\n",
            "Total funds :210000.0\n",
            "Manager SSN : 21\n",
            "\n",
            "\n",
            "Dept no :22\n",
            "Dept name :Dept22\n",
            "Website :www.wdept.com\n",
            "Total funds :220000.0\n",
            "Manager SSN : 22\n",
            "\n",
            "\n",
            "Dept no :23\n",
            "Dept name :Dept23\n",
            "Website :www.xdept.com\n",
            "Total funds :230000.0\n",
            "Manager SSN : 23\n",
            "\n",
            "\n",
            "Dept no :24\n",
            "Dept name :Dept24\n",
            "Website :www.ydept.com\n",
            "Total funds :240000.0\n",
            "Manager SSN : 24\n",
            "\n",
            "\n",
            "Dept no :25\n",
            "Dept name :Dept25\n",
            "Website :www.zdept.com\n",
            "Total funds :250000.0\n",
            "Manager SSN : 25\n",
            "\n",
            "\n",
            "Dept no :26\n",
            "Dept name :Dept26\n",
            "Website :www.[dept.com\n",
            "Total funds :260000.0\n",
            "Manager SSN : 26\n",
            "\n",
            "\n",
            "Dept no :27\n",
            "Dept name :Dept27\n",
            "Website :www.\\dept.com\n",
            "Total funds :270000.0\n",
            "Manager SSN : 27\n",
            "\n",
            "\n",
            "Dept no :28\n",
            "Dept name :Dept28\n",
            "Website :www.]dept.com\n",
            "Total funds :280000.0\n",
            "Manager SSN : 28\n",
            "\n",
            "\n",
            "Dept no :29\n",
            "Dept name :Dept29\n",
            "Website :www.^dept.com\n",
            "Total funds :290000.0\n",
            "Manager SSN : 29\n",
            "\n",
            "\n"
          ]
        }
      ]
    },
    {
      "cell_type": "code",
      "source": [
        "# add dummy data into PROJECT\n",
        "\n",
        "for i in range(4, 30):\n",
        "    conn.execute(f\"INSERT INTO PROJECT (pnumber, pname, plocation, dwebpage, expense, dnum) VALUES (?,?,?,?,?,?)\",(i,f\"Project{i}\",f\"Location{i}\",f'www.{chr(i+65).lower()}dept.com',i*100000,i))\n",
        "conn.commit()\n",
        "print(\"Dummy data inserted into PROJECT table successfully.\")\n"
      ],
      "metadata": {
        "colab": {
          "base_uri": "https://localhost:8080/"
        },
        "id": "IsoUEIivNCvQ",
        "outputId": "f187e9fb-9abc-4551-b7cc-d4f7a280fd50"
      },
      "execution_count": null,
      "outputs": [
        {
          "output_type": "stream",
          "name": "stdout",
          "text": [
            "Dummy data inserted into PROJECT table successfully.\n"
          ]
        }
      ]
    },
    {
      "cell_type": "code",
      "source": [
        "# print out the datas in project\n",
        "cursor = conn.execute(\"SELECT pnumber, pname, plocation, dwebpage, expense, dnum from PROJECT\")\n",
        "for row in cursor:\n",
        "  print(f\"Project no :{row[0]}\")\n",
        "  print(f\"Project name :{row[1]}\")\n",
        "  print(f\"Location :{row[2]}\")\n",
        "  print(f\"Department webpage :{row[3]}\")\n",
        "  print(f\"expense : {row[4]}\")\n",
        "  print(f\"Dept Number : {row[5]}\")\n",
        "  print('\\n')\n"
      ],
      "metadata": {
        "colab": {
          "base_uri": "https://localhost:8080/"
        },
        "id": "_ejfvHR5WmOk",
        "outputId": "d4a71a60-5f2d-42a9-fa47-0e22a4ca815f"
      },
      "execution_count": null,
      "outputs": [
        {
          "output_type": "stream",
          "name": "stdout",
          "text": [
            "Project no :4\n",
            "Project name :Project4\n",
            "Location :Location4\n",
            "Department webpage :www.edept.com\n",
            "expense : 400000.0\n",
            "Dept Number : 4\n",
            "\n",
            "\n",
            "Project no :5\n",
            "Project name :Project5\n",
            "Location :Location5\n",
            "Department webpage :www.fdept.com\n",
            "expense : 500000.0\n",
            "Dept Number : 5\n",
            "\n",
            "\n",
            "Project no :6\n",
            "Project name :Project6\n",
            "Location :Location6\n",
            "Department webpage :www.gdept.com\n",
            "expense : 600000.0\n",
            "Dept Number : 6\n",
            "\n",
            "\n",
            "Project no :7\n",
            "Project name :Project7\n",
            "Location :Location7\n",
            "Department webpage :www.hdept.com\n",
            "expense : 700000.0\n",
            "Dept Number : 7\n",
            "\n",
            "\n",
            "Project no :8\n",
            "Project name :Project8\n",
            "Location :Location8\n",
            "Department webpage :www.idept.com\n",
            "expense : 800000.0\n",
            "Dept Number : 8\n",
            "\n",
            "\n",
            "Project no :9\n",
            "Project name :Project9\n",
            "Location :Location9\n",
            "Department webpage :www.jdept.com\n",
            "expense : 900000.0\n",
            "Dept Number : 9\n",
            "\n",
            "\n",
            "Project no :10\n",
            "Project name :Project10\n",
            "Location :Location10\n",
            "Department webpage :www.kdept.com\n",
            "expense : 1000000.0\n",
            "Dept Number : 10\n",
            "\n",
            "\n",
            "Project no :11\n",
            "Project name :Project11\n",
            "Location :Location11\n",
            "Department webpage :www.ldept.com\n",
            "expense : 1100000.0\n",
            "Dept Number : 11\n",
            "\n",
            "\n",
            "Project no :12\n",
            "Project name :Project12\n",
            "Location :Location12\n",
            "Department webpage :www.mdept.com\n",
            "expense : 1200000.0\n",
            "Dept Number : 12\n",
            "\n",
            "\n",
            "Project no :13\n",
            "Project name :Project13\n",
            "Location :Location13\n",
            "Department webpage :www.ndept.com\n",
            "expense : 1300000.0\n",
            "Dept Number : 13\n",
            "\n",
            "\n",
            "Project no :14\n",
            "Project name :Project14\n",
            "Location :Location14\n",
            "Department webpage :www.odept.com\n",
            "expense : 1400000.0\n",
            "Dept Number : 14\n",
            "\n",
            "\n",
            "Project no :15\n",
            "Project name :Project15\n",
            "Location :Location15\n",
            "Department webpage :www.pdept.com\n",
            "expense : 1500000.0\n",
            "Dept Number : 15\n",
            "\n",
            "\n",
            "Project no :16\n",
            "Project name :Project16\n",
            "Location :Location16\n",
            "Department webpage :www.qdept.com\n",
            "expense : 1600000.0\n",
            "Dept Number : 16\n",
            "\n",
            "\n",
            "Project no :17\n",
            "Project name :Project17\n",
            "Location :Location17\n",
            "Department webpage :www.rdept.com\n",
            "expense : 1700000.0\n",
            "Dept Number : 17\n",
            "\n",
            "\n",
            "Project no :18\n",
            "Project name :Project18\n",
            "Location :Location18\n",
            "Department webpage :www.sdept.com\n",
            "expense : 1800000.0\n",
            "Dept Number : 18\n",
            "\n",
            "\n",
            "Project no :19\n",
            "Project name :Project19\n",
            "Location :Location19\n",
            "Department webpage :www.tdept.com\n",
            "expense : 1900000.0\n",
            "Dept Number : 19\n",
            "\n",
            "\n",
            "Project no :20\n",
            "Project name :Project20\n",
            "Location :Location20\n",
            "Department webpage :www.udept.com\n",
            "expense : 2000000.0\n",
            "Dept Number : 20\n",
            "\n",
            "\n",
            "Project no :21\n",
            "Project name :Project21\n",
            "Location :Location21\n",
            "Department webpage :www.vdept.com\n",
            "expense : 2100000.0\n",
            "Dept Number : 21\n",
            "\n",
            "\n",
            "Project no :22\n",
            "Project name :Project22\n",
            "Location :Location22\n",
            "Department webpage :www.wdept.com\n",
            "expense : 2200000.0\n",
            "Dept Number : 22\n",
            "\n",
            "\n",
            "Project no :23\n",
            "Project name :Project23\n",
            "Location :Location23\n",
            "Department webpage :www.xdept.com\n",
            "expense : 2300000.0\n",
            "Dept Number : 23\n",
            "\n",
            "\n",
            "Project no :24\n",
            "Project name :Project24\n",
            "Location :Location24\n",
            "Department webpage :www.ydept.com\n",
            "expense : 2400000.0\n",
            "Dept Number : 24\n",
            "\n",
            "\n",
            "Project no :25\n",
            "Project name :Project25\n",
            "Location :Location25\n",
            "Department webpage :www.zdept.com\n",
            "expense : 2500000.0\n",
            "Dept Number : 25\n",
            "\n",
            "\n",
            "Project no :26\n",
            "Project name :Project26\n",
            "Location :Location26\n",
            "Department webpage :www.[dept.com\n",
            "expense : 2600000.0\n",
            "Dept Number : 26\n",
            "\n",
            "\n",
            "Project no :27\n",
            "Project name :Project27\n",
            "Location :Location27\n",
            "Department webpage :www.\\dept.com\n",
            "expense : 2700000.0\n",
            "Dept Number : 27\n",
            "\n",
            "\n",
            "Project no :28\n",
            "Project name :Project28\n",
            "Location :Location28\n",
            "Department webpage :www.]dept.com\n",
            "expense : 2800000.0\n",
            "Dept Number : 28\n",
            "\n",
            "\n",
            "Project no :29\n",
            "Project name :Project29\n",
            "Location :Location29\n",
            "Department webpage :www.^dept.com\n",
            "expense : 2900000.0\n",
            "Dept Number : 29\n",
            "\n",
            "\n"
          ]
        }
      ]
    },
    {
      "cell_type": "code",
      "source": [
        "# add dummy data into EMPLOYEE_PROJECT\n",
        "for i in range(4, 30):\n",
        "    conn.execute(f\"INSERT INTO EMPLOYEE_PROJECT (project_id, hours, ssn, pnumber) VALUES (?,?,?,?)\"\n",
        "    ,(i,i*0.1,i,i))\n",
        "conn.commit()\n",
        "print(\"Dummy data inserted into PROJECT table successfully.\")"
      ],
      "metadata": {
        "colab": {
          "base_uri": "https://localhost:8080/"
        },
        "id": "4xX9CpENNFIo",
        "outputId": "5189a662-4b74-495b-bd04-604b5f836479"
      },
      "execution_count": null,
      "outputs": [
        {
          "output_type": "stream",
          "name": "stdout",
          "text": [
            "Dummy data inserted into PROJECT table successfully.\n"
          ]
        }
      ]
    },
    {
      "cell_type": "code",
      "source": [
        "# print out the project\n",
        "cursor = conn.execute(\"SELECT project_id, hours, ssn, pnumber from EMPLOYEE_PROJECT\")\n",
        "for row in cursor:\n",
        "  print(f\"Project no :{row[0]}\")\n",
        "  print(f\"Total hours of contribution:{row[1]}\")\n",
        "  print(f\"Employee ID :{row[2]}\")\n",
        "  print(f\"Project Number :{row[3]}\")\n",
        "\n",
        "  print('\\n')"
      ],
      "metadata": {
        "id": "4C32oE6DUkk2",
        "colab": {
          "base_uri": "https://localhost:8080/"
        },
        "outputId": "0d821c80-5190-4346-f92d-3e9fcd1a1c9e"
      },
      "execution_count": null,
      "outputs": [
        {
          "output_type": "stream",
          "name": "stdout",
          "text": [
            "Project no :4\n",
            "Total hours of contribution:0.4\n",
            "Employee ID :4\n",
            "Project Number :4\n",
            "\n",
            "\n",
            "Project no :5\n",
            "Total hours of contribution:0.5\n",
            "Employee ID :5\n",
            "Project Number :5\n",
            "\n",
            "\n",
            "Project no :6\n",
            "Total hours of contribution:0.6000000000000001\n",
            "Employee ID :6\n",
            "Project Number :6\n",
            "\n",
            "\n",
            "Project no :7\n",
            "Total hours of contribution:0.7000000000000001\n",
            "Employee ID :7\n",
            "Project Number :7\n",
            "\n",
            "\n",
            "Project no :8\n",
            "Total hours of contribution:0.8\n",
            "Employee ID :8\n",
            "Project Number :8\n",
            "\n",
            "\n",
            "Project no :9\n",
            "Total hours of contribution:0.9\n",
            "Employee ID :9\n",
            "Project Number :9\n",
            "\n",
            "\n",
            "Project no :10\n",
            "Total hours of contribution:1\n",
            "Employee ID :10\n",
            "Project Number :10\n",
            "\n",
            "\n",
            "Project no :11\n",
            "Total hours of contribution:1.1\n",
            "Employee ID :11\n",
            "Project Number :11\n",
            "\n",
            "\n",
            "Project no :12\n",
            "Total hours of contribution:1.2000000000000002\n",
            "Employee ID :12\n",
            "Project Number :12\n",
            "\n",
            "\n",
            "Project no :13\n",
            "Total hours of contribution:1.3\n",
            "Employee ID :13\n",
            "Project Number :13\n",
            "\n",
            "\n",
            "Project no :14\n",
            "Total hours of contribution:1.4000000000000001\n",
            "Employee ID :14\n",
            "Project Number :14\n",
            "\n",
            "\n",
            "Project no :15\n",
            "Total hours of contribution:1.5\n",
            "Employee ID :15\n",
            "Project Number :15\n",
            "\n",
            "\n",
            "Project no :16\n",
            "Total hours of contribution:1.6\n",
            "Employee ID :16\n",
            "Project Number :16\n",
            "\n",
            "\n",
            "Project no :17\n",
            "Total hours of contribution:1.7000000000000002\n",
            "Employee ID :17\n",
            "Project Number :17\n",
            "\n",
            "\n",
            "Project no :18\n",
            "Total hours of contribution:1.8\n",
            "Employee ID :18\n",
            "Project Number :18\n",
            "\n",
            "\n",
            "Project no :19\n",
            "Total hours of contribution:1.9000000000000001\n",
            "Employee ID :19\n",
            "Project Number :19\n",
            "\n",
            "\n",
            "Project no :20\n",
            "Total hours of contribution:2\n",
            "Employee ID :20\n",
            "Project Number :20\n",
            "\n",
            "\n",
            "Project no :21\n",
            "Total hours of contribution:2.1\n",
            "Employee ID :21\n",
            "Project Number :21\n",
            "\n",
            "\n",
            "Project no :22\n",
            "Total hours of contribution:2.2\n",
            "Employee ID :22\n",
            "Project Number :22\n",
            "\n",
            "\n",
            "Project no :23\n",
            "Total hours of contribution:2.3000000000000003\n",
            "Employee ID :23\n",
            "Project Number :23\n",
            "\n",
            "\n",
            "Project no :24\n",
            "Total hours of contribution:2.4000000000000004\n",
            "Employee ID :24\n",
            "Project Number :24\n",
            "\n",
            "\n",
            "Project no :25\n",
            "Total hours of contribution:2.5\n",
            "Employee ID :25\n",
            "Project Number :25\n",
            "\n",
            "\n",
            "Project no :26\n",
            "Total hours of contribution:2.6\n",
            "Employee ID :26\n",
            "Project Number :26\n",
            "\n",
            "\n",
            "Project no :27\n",
            "Total hours of contribution:2.7\n",
            "Employee ID :27\n",
            "Project Number :27\n",
            "\n",
            "\n",
            "Project no :28\n",
            "Total hours of contribution:2.8000000000000003\n",
            "Employee ID :28\n",
            "Project Number :28\n",
            "\n",
            "\n",
            "Project no :29\n",
            "Total hours of contribution:2.9000000000000004\n",
            "Employee ID :29\n",
            "Project Number :29\n",
            "\n",
            "\n"
          ]
        }
      ]
    },
    {
      "cell_type": "code",
      "source": [
        "# Close the database connection\n",
        "conn.close()"
      ],
      "metadata": {
        "id": "4-3u8KzLGqmJ"
      },
      "execution_count": null,
      "outputs": []
    }
  ]
}