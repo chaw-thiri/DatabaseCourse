{
  "nbformat": 4,
  "nbformat_minor": 0,
  "metadata": {
    "colab": {
      "provenance": [],
      "authorship_tag": "ABX9TyOkLN7MXDOC8S72LTPw29O2",
      "include_colab_link": true
    },
    "kernelspec": {
      "name": "python3",
      "display_name": "Python 3"
    },
    "language_info": {
      "name": "python"
    }
  },
  "cells": [
    {
      "cell_type": "markdown",
      "metadata": {
        "id": "view-in-github",
        "colab_type": "text"
      },
      "source": [
        "<a href=\"https://colab.research.google.com/github/chaw-thiri/DatabaseCourse/blob/main/Hospital_table.ipynb\" target=\"_parent\"><img src=\"https://colab.research.google.com/assets/colab-badge.svg\" alt=\"Open In Colab\"/></a>"
      ]
    },
    {
      "cell_type": "code",
      "execution_count": 95,
      "metadata": {
        "colab": {
          "base_uri": "https://localhost:8080/"
        },
        "id": "C_YZxFNOBDk2",
        "outputId": "cff8d3ce-65e1-4f29-99c9-1c763eae1e1d"
      },
      "outputs": [
        {
          "output_type": "stream",
          "name": "stdout",
          "text": [
            "Opened database successfully\n"
          ]
        }
      ],
      "source": [
        "# Importing the sqlite3 library\n",
        "import sqlite3\n",
        "\n",
        "# Connect to SQLite Database\n",
        "conn = sqlite3.connect('hospital_database.db')\n",
        "print(\"Opened database successfully\")\n",
        "\n"
      ]
    },
    {
      "cell_type": "code",
      "source": [
        "# to enable foreign keys usage\n",
        "conn.execute(\"PRAGMA foreign_keys = ON;\")"
      ],
      "metadata": {
        "colab": {
          "base_uri": "https://localhost:8080/"
        },
        "id": "_sHij05-JUoY",
        "outputId": "9fc19aa7-cd14-472d-d187-8e821f4fbd79"
      },
      "execution_count": 96,
      "outputs": [
        {
          "output_type": "execute_result",
          "data": {
            "text/plain": [
              "<sqlite3.Cursor at 0x795828cc7bc0>"
            ]
          },
          "metadata": {},
          "execution_count": 96
        }
      ]
    },
    {
      "cell_type": "markdown",
      "source": [
        "# Tables in hospital databases\n",
        "\n",
        "\n",
        "1. Location\n",
        "2. Department Location\n",
        "3. Project Location\n",
        "4. Employee\n",
        "5. Department\n",
        "6. Project\n",
        "7. Employee Project\n",
        "8. Dependent\n",
        "9. Annual Reward\n",
        "10. Patient\n",
        "11. Membership\n",
        "12. Finance\n",
        "\n",
        "\n",
        "\n",
        "\n",
        "\n",
        "\n"
      ],
      "metadata": {
        "id": "TJthL9WnBi1v"
      }
    },
    {
      "cell_type": "markdown",
      "source": [
        "# Creating the tables"
      ],
      "metadata": {
        "id": "ZxvBkMTsFDYS"
      }
    },
    {
      "cell_type": "markdown",
      "source": [
        "Start by creating a table without any foriegn keys.\n",
        "Location table will include -\n",
        "1. Location of the departments (e.g Emergency department, radiation department etc.)\n",
        "2. Location of the hospital branches.\n",
        "3. Location of the projects(e.g. vaccination projects can be anywhere across the country.)\n",
        "\n",
        "\n",
        "\n"
      ],
      "metadata": {
        "id": "ARKMeOS5MFuc"
      }
    },
    {
      "cell_type": "code",
      "source": [
        "\n",
        "conn.execute('''\n",
        "CREATE TABLE \"LOCATION\" (\n",
        "  \"location\" TEXT PRIMARY KEY\n",
        ");\n",
        "''')"
      ],
      "metadata": {
        "colab": {
          "base_uri": "https://localhost:8080/"
        },
        "id": "s275T4zGJS1i",
        "outputId": "0ab8c955-1316-44be-d0c7-e195f14bd636"
      },
      "execution_count": 97,
      "outputs": [
        {
          "output_type": "execute_result",
          "data": {
            "text/plain": [
              "<sqlite3.Cursor at 0x795828cc7dc0>"
            ]
          },
          "metadata": {},
          "execution_count": 97
        }
      ]
    },
    {
      "cell_type": "markdown",
      "source": [
        "* Department location tables connects department number with its location. For example, if a patient want to access an emergecy department but if it is full, she can easily be refered to another branch's EM department by checking this table.\n",
        "* The primary key of this table is a composite primary key which is formed by the unique combination of department number and the department location."
      ],
      "metadata": {
        "id": "Q52HdjQoMU6F"
      }
    },
    {
      "cell_type": "code",
      "source": [
        "conn.execute('''\n",
        "CREATE TABLE \"DEPARTMENT_LOCATION\" (\n",
        "  dlocation TEXT NOT NULL,\n",
        "  dnumber INTEGER NOT NULL,\n",
        "  PRIMARY KEY (dnumber, dlocation)\n",
        "  FOREIGN KEY (dlocation) REFERENCES \"LOCATION\" (\"location\")\n",
        ");\n",
        "''')"
      ],
      "metadata": {
        "colab": {
          "base_uri": "https://localhost:8080/"
        },
        "id": "2ooObqgML-4k",
        "outputId": "f9b17ccb-a05a-4d1f-d674-8a69c41f3060"
      },
      "execution_count": 98,
      "outputs": [
        {
          "output_type": "execute_result",
          "data": {
            "text/plain": [
              "<sqlite3.Cursor at 0x795828cc6ec0>"
            ]
          },
          "metadata": {},
          "execution_count": 98
        }
      ]
    },
    {
      "cell_type": "markdown",
      "source": [
        "Just like the departments, projects can exist in multiple locations and by summarizing their location in one table, we can easily analyze datas such as which part of the country has better health access and  which diseases are endemic."
      ],
      "metadata": {
        "id": "LvmO0sBc50u5"
      }
    },
    {
      "cell_type": "code",
      "source": [
        "conn.execute('''\n",
        "CREATE TABLE \"PROJECT LOCATION\" (\n",
        "  plocation TEXT NOT NULL,\n",
        "  pnumber INTEGER NOT NULL,\n",
        "  PRIMARY KEY (plocation, pnumber),\n",
        "  FOREIGN KEY (plocation) REFERENCES \"LOCATION\" (\"location\")\n",
        ");\n",
        "''')"
      ],
      "metadata": {
        "colab": {
          "base_uri": "https://localhost:8080/"
        },
        "id": "ymXwq1rnM3oN",
        "outputId": "b247f81a-b12b-4db7-ed12-066f3a515282"
      },
      "execution_count": 99,
      "outputs": [
        {
          "output_type": "execute_result",
          "data": {
            "text/plain": [
              "<sqlite3.Cursor at 0x795828cc71c0>"
            ]
          },
          "metadata": {},
          "execution_count": 99
        }
      ]
    },
    {
      "cell_type": "markdown",
      "source": [
        "* In employee table, since name can have duplicates, the unique social service number (ssn) is set as a primary key.\n",
        "* Name is divided into three columns : fname for first name, minit for middle name and lname for lastname.\n",
        "* While information such as address, salary and department number become mandatory to fill , the rest are set as optional.\n",
        "* superssn is also included to see the supervisor of each employ, which helps to visualize the hierarchical pattern of the organization.\n",
        "\n"
      ],
      "metadata": {
        "id": "maKC38sCOL_p"
      }
    },
    {
      "cell_type": "code",
      "source": [
        "# remove the foreign key, d_no, form the table, since it is cycling.\n",
        "# however, employee's ssn primary key will be referenced as a foreign key from the department table to preserve the connections.\n",
        "conn.execute('''\n",
        "CREATE TABLE \"EMPLOYEE\" (\n",
        "  ssn INTEGER PRIMARY KEY,\n",
        "  fname TEXT NOT NULL,\n",
        "  minit TEXT,\n",
        "  lname TEXT NOT NULL,\n",
        "  address TEXT NOT NULL,\n",
        "  bdate TEXT,\n",
        "  salary REAL NOT NULL,\n",
        "  sex CHAR,\n",
        "  dno INTEGER NOT NULL,\n",
        "  superssn INTEGER NOT NULL,\n",
        "  FOREIGN KEY (superssn) REFERENCES \"EMPLOYEE\" (ssn)\n",
        ");\n",
        "''')\n"
      ],
      "metadata": {
        "colab": {
          "base_uri": "https://localhost:8080/"
        },
        "id": "f3cnuMvuPyVQ",
        "outputId": "a2d82de6-203e-4183-a0ab-abbcce4bde4c"
      },
      "execution_count": 100,
      "outputs": [
        {
          "output_type": "execute_result",
          "data": {
            "text/plain": [
              "<sqlite3.Cursor at 0x795828cc7d40>"
            ]
          },
          "metadata": {},
          "execution_count": 100
        }
      ]
    },
    {
      "cell_type": "code",
      "source": [
        "conn.execute('''\n",
        "CREATE TABLE \"DEPARTMENT\" (\n",
        "  dnumber INTEGER PRIMARY KEY,\n",
        "  dname TEXT NOT NULL,\n",
        "  dwebsite TEXT NOT NULL,\n",
        "  funding REAL NOT NULL,\n",
        "  mgr_ssn INTEGER NOT NULL,\n",
        "  FOREIGN KEY (mgr_ssn) REFERENCES \"EMPLOYEE\" (ssn)\n",
        ");\n",
        "''')"
      ],
      "metadata": {
        "colab": {
          "base_uri": "https://localhost:8080/"
        },
        "id": "nbyFD7pANMlO",
        "outputId": "f88f8d91-6f0f-49e2-9229-6bb009535aa7"
      },
      "execution_count": 101,
      "outputs": [
        {
          "output_type": "execute_result",
          "data": {
            "text/plain": [
              "<sqlite3.Cursor at 0x795828cc4540>"
            ]
          },
          "metadata": {},
          "execution_count": 101
        }
      ]
    },
    {
      "cell_type": "markdown",
      "source": [
        "Project table will describe all the detail information of the project."
      ],
      "metadata": {
        "id": "5u9C06WM_jri"
      }
    },
    {
      "cell_type": "code",
      "source": [
        "conn.execute('''\n",
        "CREATE TABLE \"PROJECT\" (\n",
        "  pnumber INTEGER PRIMARY KEY,\n",
        "  pname TEXT NOT NULL,\n",
        "  plocation TEXT NOT NULL,\n",
        "  dwebpage TEXT,\n",
        "  expense NUMERIC NOT NULL,\n",
        "  dnum INTEGER NOT NULL,\n",
        "  FOREIGN KEY (plocation) REFERENCES \"PROJECT LOCATION\" (plocation),\n",
        "  FOREIGN KEY (dnum) REFERENCES \"DEPARTMENT\" (dnumber)\n",
        ");\n",
        "''')"
      ],
      "metadata": {
        "colab": {
          "base_uri": "https://localhost:8080/"
        },
        "id": "xGrkr0oGPn-h",
        "outputId": "c6638685-2053-4852-bc3e-3506cdb97bbc"
      },
      "execution_count": 102,
      "outputs": [
        {
          "output_type": "execute_result",
          "data": {
            "text/plain": [
              "<sqlite3.Cursor at 0x795828cc5540>"
            ]
          },
          "metadata": {},
          "execution_count": 102
        }
      ]
    },
    {
      "cell_type": "markdown",
      "source": [
        "To reflect performance of the employees, employ project is created. This table will include how many hours do the employ contribute to his project, employee id to specify the employee and project id to specify the project. To connect the project with the individual employees, the unique employee specific project_id is set as a primary key."
      ],
      "metadata": {
        "id": "gD4ywxuJ_o4p"
      }
    },
    {
      "cell_type": "code",
      "source": [
        "conn.execute('''\n",
        "CREATE TABLE \"EMPLOYEE_PROJECT\" (\n",
        "  project_id INTEGER PRIMARY KEY,\n",
        "  hours INTEGER NOT NULL,\n",
        "  ssn INTEGER NOT NULL,\n",
        "  pnumber INTEGER NOT NULL,\n",
        "  FOREIGN KEY (ssn) REFERENCES \"EMPLOYEE\" (ssn),\n",
        "  FOREIGN KEY (pnumber) REFERENCES \"PROJECT\" (pnumber)\n",
        ");\n",
        "''')"
      ],
      "metadata": {
        "colab": {
          "base_uri": "https://localhost:8080/"
        },
        "id": "s1Ml6aeSPd-x",
        "outputId": "48b9dc09-ce2a-4f3b-d063-7244e662513d"
      },
      "execution_count": 103,
      "outputs": [
        {
          "output_type": "execute_result",
          "data": {
            "text/plain": [
              "<sqlite3.Cursor at 0x795828cc78c0>"
            ]
          },
          "metadata": {},
          "execution_count": 103
        }
      ]
    },
    {
      "cell_type": "markdown",
      "source": [
        "Even though this tables is named dependent, it will act as a guardian table in case of patients and dependent table in case of employees.\n"
      ],
      "metadata": {
        "id": "W9aDJeCzBKFY"
      }
    },
    {
      "cell_type": "code",
      "source": [
        "conn.execute('''\n",
        "CREATE TABLE \"DEPENDENT\" (\n",
        "  dependent_name TEXT NOT NULL,\n",
        "  \"dependent_SSN\" INTEGER,\n",
        "  sex TEXT NOT NULL,\n",
        "  bdate TEXT,\n",
        "  relationship TEXT,\n",
        "  essn INTEGER NOT NULL,\n",
        "  PRIMARY KEY (dependent_name, \"dependent_SSN\"),\n",
        "  FOREIGN KEY (essn) REFERENCES \"EMPLOYEE\" (ssn)\n",
        ");\n",
        "''')"
      ],
      "metadata": {
        "colab": {
          "base_uri": "https://localhost:8080/"
        },
        "id": "y9L58hXSPrWY",
        "outputId": "2532a384-b1f3-4d13-e50a-05f6fad2c5f8"
      },
      "execution_count": 104,
      "outputs": [
        {
          "output_type": "execute_result",
          "data": {
            "text/plain": [
              "<sqlite3.Cursor at 0x795828cc5640>"
            ]
          },
          "metadata": {},
          "execution_count": 104
        }
      ]
    },
    {
      "cell_type": "markdown",
      "source": [
        "Every organization hosts an award system to promote employee satisfication. This table will connect employ names, his ssn and his winning projects."
      ],
      "metadata": {
        "id": "s2pOzg3dBYvw"
      }
    },
    {
      "cell_type": "code",
      "source": [
        "conn.execute('''\n",
        "CREATE TABLE \"ANNUAL REWARD\" (\n",
        "  \"rewardName\" TEXT PRIMARY KEY,\n",
        "  winner_ssn INTEGER NOT NULL,\n",
        "  dnumber INTEGER NOT NULL,\n",
        "  pnumber INTEGER NOT NULL,\n",
        "  FOREIGN KEY (winner_ssn) REFERENCES \"EMPLOYEE\" (ssn),\n",
        "  FOREIGN KEY (dnumber) REFERENCES \"DEPARTMENT\" (dnumber),\n",
        "  FOREIGN KEY (pnumber) REFERENCES \"PROJECT\" (pnumber)\n",
        ");\n",
        "''')"
      ],
      "metadata": {
        "colab": {
          "base_uri": "https://localhost:8080/"
        },
        "id": "GzO52ux7PAac",
        "outputId": "15522ca2-3bf3-4aa0-be7b-6c92570b9f4c"
      },
      "execution_count": 105,
      "outputs": [
        {
          "output_type": "execute_result",
          "data": {
            "text/plain": [
              "<sqlite3.Cursor at 0x795828cc7cc0>"
            ]
          },
          "metadata": {},
          "execution_count": 105
        }
      ]
    },
    {
      "cell_type": "markdown",
      "source": [
        "\n",
        "\n",
        "*  This table is the most detailed and largest table of the whole data set.\n",
        "*  It will store all the necessay details such as blood type, address, sex, membership, hospitalization duration, department location as not null datatype.\n",
        "\n"
      ],
      "metadata": {
        "id": "wyvblcSvCNCn"
      }
    },
    {
      "cell_type": "code",
      "source": [
        "conn.execute('''\n",
        "CREATE TABLE \"PATIENT\" (\n",
        "  patient_id INTEGER PRIMARY KEY,\n",
        "  patient_name TEXT NOT NULL,\n",
        "  \"blood type\" TEXT NOT NULL,\n",
        "  address TEXT NOT NULL,\n",
        "  sex TEXT NOT NULL,\n",
        "  membership BOOLEAN NOT NULL,\n",
        "  \"period of stay\" TEXT NOT NULL,\n",
        "  project_number INTEGER NOT NULL,\n",
        "  dept_category INTEGER NOT NULL,\n",
        "  ward_location TEXT NOT NULL,\n",
        "  guardian_name TEXT NOT NULL,\n",
        "  \"EMPLOYEE_ssn\" INTEGER NOT NULL,\n",
        "  guardian_id INTEGER,\n",
        "  FOREIGN KEY (project_number) REFERENCES \"PROJECT\" (pnumber),\n",
        "  FOREIGN KEY (dept_category) REFERENCES \"DEPARTMENT\" (dnumber),\n",
        "  FOREIGN KEY (ward_location) REFERENCES \"LOCATION\" (\"location\"),\n",
        "  FOREIGN KEY (guardian_name, guardian_id) REFERENCES \"DEPENDENT\" (dependent_name, \"dependent_SSN\"),\n",
        "  FOREIGN KEY (\"EMPLOYEE_ssn\") REFERENCES \"EMPLOYEE\" (ssn)\n",
        ");\n",
        "\n",
        "''')\n"
      ],
      "metadata": {
        "colab": {
          "base_uri": "https://localhost:8080/"
        },
        "id": "uAGImxmmP1i5",
        "outputId": "46fcd944-c74a-476c-f9b2-e4ac7bb6294d"
      },
      "execution_count": 106,
      "outputs": [
        {
          "output_type": "execute_result",
          "data": {
            "text/plain": [
              "<sqlite3.Cursor at 0x795828c82dc0>"
            ]
          },
          "metadata": {},
          "execution_count": 106
        }
      ]
    },
    {
      "cell_type": "code",
      "source": [
        "conn.execute('''\n",
        "CREATE TABLE \"MEMBERSHIP\" (\n",
        "  membership_id INTEGER PRIMARY KEY,\n",
        "  period TEXT NOT NULL,\n",
        "  \"PATIENT_patient_id\" INTEGER NOT NULL,\n",
        "  FOREIGN KEY (\"PATIENT_patient_id\") REFERENCES \"PATIENT\" (patient_id)\n",
        ");\n",
        "''')"
      ],
      "metadata": {
        "colab": {
          "base_uri": "https://localhost:8080/"
        },
        "id": "R9u4cQ-6PjUv",
        "outputId": "e4b3c731-6660-428a-e155-eead8b35050d"
      },
      "execution_count": 107,
      "outputs": [
        {
          "output_type": "execute_result",
          "data": {
            "text/plain": [
              "<sqlite3.Cursor at 0x795836800440>"
            ]
          },
          "metadata": {},
          "execution_count": 107
        }
      ]
    },
    {
      "cell_type": "code",
      "source": [
        "conn.execute('''\n",
        "CREATE TABLE \"FINANCE\" (\n",
        "  finance_id NUMERIC PRIMARY KEY,\n",
        "  \"profit\" NUMERIC NOT NULL,\n",
        "  loss NUMERIC NOT NULL,\n",
        "  \"EMPLOYEE_ssn\" INTEGER NOT NULL,\n",
        "  \"PROJECT_pnumber\" INTEGER NOT NULL,\n",
        "  \"PATIENT_patient_id\" INTEGER NOT NULL,\n",
        "  \"MEMBERSHIP_membership_id\" INTEGER NOT NULL,\n",
        "  FOREIGN KEY (\"EMPLOYEE_ssn\") REFERENCES \"EMPLOYEE\" (ssn),\n",
        "  FOREIGN KEY (\"PROJECT_pnumber\") REFERENCES \"PROJECT\" (pnumber),\n",
        "  FOREIGN KEY (\"PATIENT_patient_id\") REFERENCES \"PATIENT\" (patient_id),\n",
        "  FOREIGN KEY (\"MEMBERSHIP_membership_id\") REFERENCES \"MEMBERSHIP\" (membership_id)\n",
        ");\n",
        "''')"
      ],
      "metadata": {
        "colab": {
          "base_uri": "https://localhost:8080/"
        },
        "id": "5nRDVmDAPvBx",
        "outputId": "5ad28290-7f4e-4194-8199-9283ac3aabaf"
      },
      "execution_count": 108,
      "outputs": [
        {
          "output_type": "execute_result",
          "data": {
            "text/plain": [
              "<sqlite3.Cursor at 0x795828b4c1c0>"
            ]
          },
          "metadata": {},
          "execution_count": 108
        }
      ]
    },
    {
      "cell_type": "code",
      "source": [
        "# Commit the changes and close the connection\n",
        "conn.commit()\n",
        "conn.close()"
      ],
      "metadata": {
        "id": "peWhcmGx2ZhU"
      },
      "execution_count": 109,
      "outputs": []
    },
    {
      "cell_type": "markdown",
      "source": [
        "> Sqlite does not support cstring, date, money datatypes. So, cstring and dates are replaced by Text and money is replace by REAL datatypes."
      ],
      "metadata": {
        "id": "n0oEuxzd7jFf"
      }
    },
    {
      "cell_type": "markdown",
      "source": [
        "# Checking the created tables"
      ],
      "metadata": {
        "id": "9nkiUtcVFIGC"
      }
    },
    {
      "cell_type": "code",
      "source": [
        "# check the created tables\n",
        "# Connect to SQLite Database\n",
        "conn = sqlite3.connect('hospital_database.db')\n",
        "\n",
        "# List all tables in the database\n",
        "cursor = conn.execute(\"SELECT name FROM sqlite_master WHERE type='table';\")\n",
        "tables = [table[0] for table in cursor.fetchall()]\n",
        "i=1\n",
        "for table in tables:\n",
        "\n",
        "  print(f\"{i}. {table}\")\n",
        "  i += 1\n",
        "\n",
        "# Close the database connection\n",
        "conn.close()"
      ],
      "metadata": {
        "colab": {
          "base_uri": "https://localhost:8080/"
        },
        "id": "OgOhaui-DKb9",
        "outputId": "b108ed2d-3153-4322-fc42-3e7b3966428b"
      },
      "execution_count": 110,
      "outputs": [
        {
          "output_type": "stream",
          "name": "stdout",
          "text": [
            "1. LOCATION\n",
            "2. DEPARTMENT_LOCATION\n",
            "3. PROJECT LOCATION\n",
            "4. EMPLOYEE\n",
            "5. DEPARTMENT\n",
            "6. PROJECT\n",
            "7. EMPLOYEE_PROJECT\n",
            "8. DEPENDENT\n",
            "9. ANNUAL REWARD\n",
            "10. PATIENT\n",
            "11. MEMBERSHIP\n",
            "12. FINANCE\n"
          ]
        }
      ]
    },
    {
      "cell_type": "markdown",
      "source": [
        "# Filling the table with datas"
      ],
      "metadata": {
        "id": "4S6oqL2bFMFS"
      }
    },
    {
      "cell_type": "code",
      "source": [
        "conn = sqlite3.connect('hospital_database.db')  # reopen the database\n",
        "print(\"Opened database successfully\")"
      ],
      "metadata": {
        "colab": {
          "base_uri": "https://localhost:8080/"
        },
        "id": "sA76kwJtF_RK",
        "outputId": "65aae007-67ef-43a9-df7b-883663c9f68b"
      },
      "execution_count": 111,
      "outputs": [
        {
          "output_type": "stream",
          "name": "stdout",
          "text": [
            "Opened database successfully\n"
          ]
        }
      ]
    },
    {
      "cell_type": "code",
      "source": [
        "conn.execute(\"INSERT INTO LOCATION (location) VALUES ('Seoul')\");\n",
        "conn.execute(\"INSERT INTO LOCATION (location) VALUES ('Incheon')\");\n",
        "conn.execute(\"INSERT INTO LOCATION (location) VALUES ('Ansan')\");\n",
        "conn.execute(\"INSERT INTO LOCATION (location) VALUES ('Busan')\");\n",
        "conn.commit()\n",
        "print(\"Locations inserted successfully\")\n",
        "\n"
      ],
      "metadata": {
        "colab": {
          "base_uri": "https://localhost:8080/"
        },
        "id": "O1UyLGAQFUFE",
        "outputId": "363055ea-0c1d-45aa-8712-8f286d7693a3"
      },
      "execution_count": 112,
      "outputs": [
        {
          "output_type": "stream",
          "name": "stdout",
          "text": [
            "Locations inserted successfully\n"
          ]
        }
      ]
    },
    {
      "cell_type": "code",
      "source": [
        "# print out the rows from location table\n",
        "cursor = conn.execute(\"SELECT location from LOCATION\")\n",
        "for row in cursor:\n",
        "  print(\"Location\", row)\n",
        "\n",
        "\n"
      ],
      "metadata": {
        "colab": {
          "base_uri": "https://localhost:8080/"
        },
        "id": "CCO1Z-cIGNux",
        "outputId": "1a169f77-8e4d-4121-fe57-a4dc451802d9"
      },
      "execution_count": 113,
      "outputs": [
        {
          "output_type": "stream",
          "name": "stdout",
          "text": [
            "Location ('Seoul',)\n",
            "Location ('Incheon',)\n",
            "Location ('Ansan',)\n",
            "Location ('Busan',)\n"
          ]
        }
      ]
    },
    {
      "cell_type": "code",
      "source": [
        "# inserting more dummy database into location table\n",
        "for i in range(4, 30):\n",
        "    conn.execute(f\"INSERT INTO LOCATION (location) VALUES ('Location{i}');\")\n",
        "conn.commit()\n",
        "print(\"dummy datas inserted successfully.\")\n"
      ],
      "metadata": {
        "colab": {
          "base_uri": "https://localhost:8080/"
        },
        "id": "m0fMlPF9G72g",
        "outputId": "7306a853-1f0d-4591-b41a-2a831a3a1d80"
      },
      "execution_count": 114,
      "outputs": [
        {
          "output_type": "stream",
          "name": "stdout",
          "text": [
            "dummy datas inserted successfully.\n"
          ]
        }
      ]
    },
    {
      "cell_type": "code",
      "source": [
        "# print out new table after adding dummy data\n",
        "cursor = conn.execute(\"SELECT location from LOCATION\")\n",
        "for row in cursor:\n",
        "  print(\"Location\", row)"
      ],
      "metadata": {
        "colab": {
          "base_uri": "https://localhost:8080/"
        },
        "id": "OIJxoQ5pH06Q",
        "outputId": "3239299d-47b0-41f4-d116-982b3138b13f"
      },
      "execution_count": 115,
      "outputs": [
        {
          "output_type": "stream",
          "name": "stdout",
          "text": [
            "Location ('Seoul',)\n",
            "Location ('Incheon',)\n",
            "Location ('Ansan',)\n",
            "Location ('Busan',)\n",
            "Location ('Location4',)\n",
            "Location ('Location5',)\n",
            "Location ('Location6',)\n",
            "Location ('Location7',)\n",
            "Location ('Location8',)\n",
            "Location ('Location9',)\n",
            "Location ('Location10',)\n",
            "Location ('Location11',)\n",
            "Location ('Location12',)\n",
            "Location ('Location13',)\n",
            "Location ('Location14',)\n",
            "Location ('Location15',)\n",
            "Location ('Location16',)\n",
            "Location ('Location17',)\n",
            "Location ('Location18',)\n",
            "Location ('Location19',)\n",
            "Location ('Location20',)\n",
            "Location ('Location21',)\n",
            "Location ('Location22',)\n",
            "Location ('Location23',)\n",
            "Location ('Location24',)\n",
            "Location ('Location25',)\n",
            "Location ('Location26',)\n",
            "Location ('Location27',)\n",
            "Location ('Location28',)\n",
            "Location ('Location29',)\n"
          ]
        }
      ]
    },
    {
      "cell_type": "code",
      "source": [
        "# adding 5 rows of dummy data to department location table\n",
        "for i in range(4,30):\n",
        "    conn.execute(f\"INSERT INTO DEPARTMENT_LOCATION (dlocation,dnumber) VALUES ('Location{i}','Dept {i}');\")\n",
        "conn.commit()\n",
        "print(\"dummy datas inserted successfully.\")"
      ],
      "metadata": {
        "colab": {
          "base_uri": "https://localhost:8080/"
        },
        "id": "zYe3GkF6IJd5",
        "outputId": "84eced3e-85fb-45a8-f673-ee7d68f8b453"
      },
      "execution_count": 116,
      "outputs": [
        {
          "output_type": "stream",
          "name": "stdout",
          "text": [
            "dummy datas inserted successfully.\n"
          ]
        }
      ]
    },
    {
      "cell_type": "code",
      "source": [
        "# print out new table after adding dummy data\n",
        "cursor = conn.execute(\"SELECT dlocation,dnumber from DEPARTMENT_LOCATION\")\n",
        "for row in cursor:\n",
        "  print(f\"Location :{row[0]}\")\n",
        "  print(f\"Dept :{row[1]}\\n\")\n"
      ],
      "metadata": {
        "colab": {
          "base_uri": "https://localhost:8080/"
        },
        "id": "WrB0zC4CK2d1",
        "outputId": "666a94da-8d24-46be-e246-a0b17245cfc3"
      },
      "execution_count": 117,
      "outputs": [
        {
          "output_type": "stream",
          "name": "stdout",
          "text": [
            "Location :Location4\n",
            "Dept :Dept 4\n",
            "\n",
            "Location :Location5\n",
            "Dept :Dept 5\n",
            "\n",
            "Location :Location6\n",
            "Dept :Dept 6\n",
            "\n",
            "Location :Location7\n",
            "Dept :Dept 7\n",
            "\n",
            "Location :Location8\n",
            "Dept :Dept 8\n",
            "\n",
            "Location :Location9\n",
            "Dept :Dept 9\n",
            "\n",
            "Location :Location10\n",
            "Dept :Dept 10\n",
            "\n",
            "Location :Location11\n",
            "Dept :Dept 11\n",
            "\n",
            "Location :Location12\n",
            "Dept :Dept 12\n",
            "\n",
            "Location :Location13\n",
            "Dept :Dept 13\n",
            "\n",
            "Location :Location14\n",
            "Dept :Dept 14\n",
            "\n",
            "Location :Location15\n",
            "Dept :Dept 15\n",
            "\n",
            "Location :Location16\n",
            "Dept :Dept 16\n",
            "\n",
            "Location :Location17\n",
            "Dept :Dept 17\n",
            "\n",
            "Location :Location18\n",
            "Dept :Dept 18\n",
            "\n",
            "Location :Location19\n",
            "Dept :Dept 19\n",
            "\n",
            "Location :Location20\n",
            "Dept :Dept 20\n",
            "\n",
            "Location :Location21\n",
            "Dept :Dept 21\n",
            "\n",
            "Location :Location22\n",
            "Dept :Dept 22\n",
            "\n",
            "Location :Location23\n",
            "Dept :Dept 23\n",
            "\n",
            "Location :Location24\n",
            "Dept :Dept 24\n",
            "\n",
            "Location :Location25\n",
            "Dept :Dept 25\n",
            "\n",
            "Location :Location26\n",
            "Dept :Dept 26\n",
            "\n",
            "Location :Location27\n",
            "Dept :Dept 27\n",
            "\n",
            "Location :Location28\n",
            "Dept :Dept 28\n",
            "\n",
            "Location :Location29\n",
            "Dept :Dept 29\n",
            "\n"
          ]
        }
      ]
    },
    {
      "cell_type": "code",
      "source": [
        "for i in range(4,30):\n",
        "    conn.execute(f\"INSERT INTO 'PROJECT LOCATION' (plocation,pnumber) VALUES ('Location{i}','ProjectNo{i}');\")\n",
        "conn.commit()\n",
        "print(\"dummy datas inserted into project location table successfully.\")\n",
        "\n",
        "for i in range(4,30):\n",
        "    conn.execute(f\"INSERT INTO 'EMPLOYEE' (ssn,fname,minit,lname,address,bdate,salary,sex,dno,superssn) VALUES ('{i}','fname{i}','minit{i}','lname{i}','Location{i}','{i+2010}','{i*20000}','F','Dept {i}', '{i}');\")\n",
        "conn.commit()\n",
        "print(\"dummy datas inserted into employee table successfully.\")\n",
        "\n",
        "\n",
        "\n"
      ],
      "metadata": {
        "colab": {
          "base_uri": "https://localhost:8080/"
        },
        "id": "-CoIRm-3ML2N",
        "outputId": "f52a7f92-4377-45f3-a604-5ef4e36f7144"
      },
      "execution_count": 118,
      "outputs": [
        {
          "output_type": "stream",
          "name": "stdout",
          "text": [
            "dummy datas inserted into project location table successfully.\n",
            "dummy datas inserted into employee table successfully.\n"
          ]
        }
      ]
    },
    {
      "cell_type": "code",
      "source": [
        "# printing out data from employee table\n",
        "cursor = conn.execute(\"SELECT ssn, fname, minit,lname,address,bdate,salary,sex,dno,superssn from 'EMPLOYEE'\")\n",
        "for row in cursor:\n",
        "  print(f\"Social Service Number :{row[0]}\")\n",
        "  print(f\"First name :{row[1]}\")\n",
        "  print(f\"Middle name :{row[2]}\")\n",
        "  print(f\"Last name :{row[3]}\")\n",
        "  print(f\"Address : {row[4]}\")\n",
        "  print(f\"Birth Year :{row[5]}\")\n",
        "  print(f\"Salary: {row[6]}\")\n",
        "  print(f\"Sex : {row[7]}\")\n",
        "  print(f\"Dept number : {row[8]}\")\n",
        "  print(f\"Supervisior social service number : {row[9]}\")\n",
        "  print('\\n')\n"
      ],
      "metadata": {
        "colab": {
          "base_uri": "https://localhost:8080/"
        },
        "id": "6x2GK4a-JfO9",
        "outputId": "55cd26b6-d38e-4428-f090-7cf4e38da8c5"
      },
      "execution_count": 119,
      "outputs": [
        {
          "output_type": "stream",
          "name": "stdout",
          "text": [
            "Social Service Number :4\n",
            "First name :fname4\n",
            "Middle name :minit4\n",
            "Last name :lname4\n",
            "Address : Location4\n",
            "Birth Year :2014\n",
            "Salary: 80000.0\n",
            "Sex : F\n",
            "Dept number : Dept 4\n",
            "Supervisior social service number : 4\n",
            "\n",
            "\n",
            "Social Service Number :5\n",
            "First name :fname5\n",
            "Middle name :minit5\n",
            "Last name :lname5\n",
            "Address : Location5\n",
            "Birth Year :2015\n",
            "Salary: 100000.0\n",
            "Sex : F\n",
            "Dept number : Dept 5\n",
            "Supervisior social service number : 5\n",
            "\n",
            "\n",
            "Social Service Number :6\n",
            "First name :fname6\n",
            "Middle name :minit6\n",
            "Last name :lname6\n",
            "Address : Location6\n",
            "Birth Year :2016\n",
            "Salary: 120000.0\n",
            "Sex : F\n",
            "Dept number : Dept 6\n",
            "Supervisior social service number : 6\n",
            "\n",
            "\n",
            "Social Service Number :7\n",
            "First name :fname7\n",
            "Middle name :minit7\n",
            "Last name :lname7\n",
            "Address : Location7\n",
            "Birth Year :2017\n",
            "Salary: 140000.0\n",
            "Sex : F\n",
            "Dept number : Dept 7\n",
            "Supervisior social service number : 7\n",
            "\n",
            "\n",
            "Social Service Number :8\n",
            "First name :fname8\n",
            "Middle name :minit8\n",
            "Last name :lname8\n",
            "Address : Location8\n",
            "Birth Year :2018\n",
            "Salary: 160000.0\n",
            "Sex : F\n",
            "Dept number : Dept 8\n",
            "Supervisior social service number : 8\n",
            "\n",
            "\n",
            "Social Service Number :9\n",
            "First name :fname9\n",
            "Middle name :minit9\n",
            "Last name :lname9\n",
            "Address : Location9\n",
            "Birth Year :2019\n",
            "Salary: 180000.0\n",
            "Sex : F\n",
            "Dept number : Dept 9\n",
            "Supervisior social service number : 9\n",
            "\n",
            "\n",
            "Social Service Number :10\n",
            "First name :fname10\n",
            "Middle name :minit10\n",
            "Last name :lname10\n",
            "Address : Location10\n",
            "Birth Year :2020\n",
            "Salary: 200000.0\n",
            "Sex : F\n",
            "Dept number : Dept 10\n",
            "Supervisior social service number : 10\n",
            "\n",
            "\n",
            "Social Service Number :11\n",
            "First name :fname11\n",
            "Middle name :minit11\n",
            "Last name :lname11\n",
            "Address : Location11\n",
            "Birth Year :2021\n",
            "Salary: 220000.0\n",
            "Sex : F\n",
            "Dept number : Dept 11\n",
            "Supervisior social service number : 11\n",
            "\n",
            "\n",
            "Social Service Number :12\n",
            "First name :fname12\n",
            "Middle name :minit12\n",
            "Last name :lname12\n",
            "Address : Location12\n",
            "Birth Year :2022\n",
            "Salary: 240000.0\n",
            "Sex : F\n",
            "Dept number : Dept 12\n",
            "Supervisior social service number : 12\n",
            "\n",
            "\n",
            "Social Service Number :13\n",
            "First name :fname13\n",
            "Middle name :minit13\n",
            "Last name :lname13\n",
            "Address : Location13\n",
            "Birth Year :2023\n",
            "Salary: 260000.0\n",
            "Sex : F\n",
            "Dept number : Dept 13\n",
            "Supervisior social service number : 13\n",
            "\n",
            "\n",
            "Social Service Number :14\n",
            "First name :fname14\n",
            "Middle name :minit14\n",
            "Last name :lname14\n",
            "Address : Location14\n",
            "Birth Year :2024\n",
            "Salary: 280000.0\n",
            "Sex : F\n",
            "Dept number : Dept 14\n",
            "Supervisior social service number : 14\n",
            "\n",
            "\n",
            "Social Service Number :15\n",
            "First name :fname15\n",
            "Middle name :minit15\n",
            "Last name :lname15\n",
            "Address : Location15\n",
            "Birth Year :2025\n",
            "Salary: 300000.0\n",
            "Sex : F\n",
            "Dept number : Dept 15\n",
            "Supervisior social service number : 15\n",
            "\n",
            "\n",
            "Social Service Number :16\n",
            "First name :fname16\n",
            "Middle name :minit16\n",
            "Last name :lname16\n",
            "Address : Location16\n",
            "Birth Year :2026\n",
            "Salary: 320000.0\n",
            "Sex : F\n",
            "Dept number : Dept 16\n",
            "Supervisior social service number : 16\n",
            "\n",
            "\n",
            "Social Service Number :17\n",
            "First name :fname17\n",
            "Middle name :minit17\n",
            "Last name :lname17\n",
            "Address : Location17\n",
            "Birth Year :2027\n",
            "Salary: 340000.0\n",
            "Sex : F\n",
            "Dept number : Dept 17\n",
            "Supervisior social service number : 17\n",
            "\n",
            "\n",
            "Social Service Number :18\n",
            "First name :fname18\n",
            "Middle name :minit18\n",
            "Last name :lname18\n",
            "Address : Location18\n",
            "Birth Year :2028\n",
            "Salary: 360000.0\n",
            "Sex : F\n",
            "Dept number : Dept 18\n",
            "Supervisior social service number : 18\n",
            "\n",
            "\n",
            "Social Service Number :19\n",
            "First name :fname19\n",
            "Middle name :minit19\n",
            "Last name :lname19\n",
            "Address : Location19\n",
            "Birth Year :2029\n",
            "Salary: 380000.0\n",
            "Sex : F\n",
            "Dept number : Dept 19\n",
            "Supervisior social service number : 19\n",
            "\n",
            "\n",
            "Social Service Number :20\n",
            "First name :fname20\n",
            "Middle name :minit20\n",
            "Last name :lname20\n",
            "Address : Location20\n",
            "Birth Year :2030\n",
            "Salary: 400000.0\n",
            "Sex : F\n",
            "Dept number : Dept 20\n",
            "Supervisior social service number : 20\n",
            "\n",
            "\n",
            "Social Service Number :21\n",
            "First name :fname21\n",
            "Middle name :minit21\n",
            "Last name :lname21\n",
            "Address : Location21\n",
            "Birth Year :2031\n",
            "Salary: 420000.0\n",
            "Sex : F\n",
            "Dept number : Dept 21\n",
            "Supervisior social service number : 21\n",
            "\n",
            "\n",
            "Social Service Number :22\n",
            "First name :fname22\n",
            "Middle name :minit22\n",
            "Last name :lname22\n",
            "Address : Location22\n",
            "Birth Year :2032\n",
            "Salary: 440000.0\n",
            "Sex : F\n",
            "Dept number : Dept 22\n",
            "Supervisior social service number : 22\n",
            "\n",
            "\n",
            "Social Service Number :23\n",
            "First name :fname23\n",
            "Middle name :minit23\n",
            "Last name :lname23\n",
            "Address : Location23\n",
            "Birth Year :2033\n",
            "Salary: 460000.0\n",
            "Sex : F\n",
            "Dept number : Dept 23\n",
            "Supervisior social service number : 23\n",
            "\n",
            "\n",
            "Social Service Number :24\n",
            "First name :fname24\n",
            "Middle name :minit24\n",
            "Last name :lname24\n",
            "Address : Location24\n",
            "Birth Year :2034\n",
            "Salary: 480000.0\n",
            "Sex : F\n",
            "Dept number : Dept 24\n",
            "Supervisior social service number : 24\n",
            "\n",
            "\n",
            "Social Service Number :25\n",
            "First name :fname25\n",
            "Middle name :minit25\n",
            "Last name :lname25\n",
            "Address : Location25\n",
            "Birth Year :2035\n",
            "Salary: 500000.0\n",
            "Sex : F\n",
            "Dept number : Dept 25\n",
            "Supervisior social service number : 25\n",
            "\n",
            "\n",
            "Social Service Number :26\n",
            "First name :fname26\n",
            "Middle name :minit26\n",
            "Last name :lname26\n",
            "Address : Location26\n",
            "Birth Year :2036\n",
            "Salary: 520000.0\n",
            "Sex : F\n",
            "Dept number : Dept 26\n",
            "Supervisior social service number : 26\n",
            "\n",
            "\n",
            "Social Service Number :27\n",
            "First name :fname27\n",
            "Middle name :minit27\n",
            "Last name :lname27\n",
            "Address : Location27\n",
            "Birth Year :2037\n",
            "Salary: 540000.0\n",
            "Sex : F\n",
            "Dept number : Dept 27\n",
            "Supervisior social service number : 27\n",
            "\n",
            "\n",
            "Social Service Number :28\n",
            "First name :fname28\n",
            "Middle name :minit28\n",
            "Last name :lname28\n",
            "Address : Location28\n",
            "Birth Year :2038\n",
            "Salary: 560000.0\n",
            "Sex : F\n",
            "Dept number : Dept 28\n",
            "Supervisior social service number : 28\n",
            "\n",
            "\n",
            "Social Service Number :29\n",
            "First name :fname29\n",
            "Middle name :minit29\n",
            "Last name :lname29\n",
            "Address : Location29\n",
            "Birth Year :2039\n",
            "Salary: 580000.0\n",
            "Sex : F\n",
            "Dept number : Dept 29\n",
            "Supervisior social service number : 29\n",
            "\n",
            "\n"
          ]
        }
      ]
    },
    {
      "cell_type": "code",
      "source": [
        "# Close the database connection\n",
        "conn.close()"
      ],
      "metadata": {
        "id": "4-3u8KzLGqmJ"
      },
      "execution_count": 120,
      "outputs": []
    }
  ]
}