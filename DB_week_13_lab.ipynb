{
  "nbformat": 4,
  "nbformat_minor": 0,
  "metadata": {
    "colab": {
      "provenance": [],
      "authorship_tag": "ABX9TyOkO0PpmTPTIIT+owcr4aFW",
      "include_colab_link": true
    },
    "kernelspec": {
      "name": "python3",
      "display_name": "Python 3"
    },
    "language_info": {
      "name": "python"
    }
  },
  "cells": [
    {
      "cell_type": "markdown",
      "metadata": {
        "id": "view-in-github",
        "colab_type": "text"
      },
      "source": [
        "<a href=\"https://colab.research.google.com/github/chaw-thiri/DatabaseCourse/blob/main/DB_week_13_lab.ipynb\" target=\"_parent\"><img src=\"https://colab.research.google.com/assets/colab-badge.svg\" alt=\"Open In Colab\"/></a>"
      ]
    },
    {
      "cell_type": "code",
      "execution_count": 7,
      "metadata": {
        "colab": {
          "base_uri": "https://localhost:8080/"
        },
        "id": "5jE5KwWGD0nE",
        "outputId": "26debf04-2355-4704-890e-690437251a53"
      },
      "outputs": [
        {
          "output_type": "stream",
          "name": "stdout",
          "text": [
            "Query plan with index:  [(1, 'Alice', 'HR', 70000), (3, 'Charlie', 'HR', 75000)]\n",
            "Query plan without index:  [(1, 'Alice', 'HR', 70000), (3, 'Charlie', 'HR', 75000)]\n"
          ]
        }
      ],
      "source": [
        "import sqlite3\n",
        "\n",
        "# connect to SQLite database\n",
        "conn = sqlite3.connect('example.db')\n",
        "c = conn.cursor()\n",
        "\n",
        "# create a sample table\n",
        "c.execute('''\n",
        "CREATE TABLE IF NOT EXISTS employees(id INTEGER PRIMARY KEY, name TEXT, department TEXT, salary INTEGER)\n",
        "''')\n",
        "\n",
        "# Example 1: Efficient indexing\n",
        "# ..............................................................\n",
        "# Description: This example demonstrates how to create an index on the 'department' column.\n",
        "# The index will improve the performance of queries filtering by department.\n",
        "\n",
        "# adding sample data\n",
        "sample_data = [(1, 'Alice', 'HR', 70000),\n",
        "               (2, 'Bob', 'Engineer', 80000),\n",
        "               (3, 'Charlie', 'HR', 75000)]\n",
        "c.executemany('INSERT INTO employees VALUES(?, ?, ?, ?)', sample_data)  # Fixed the typo in 'executemany'\n",
        "\n",
        "# create an index\n",
        "c.execute('CREATE INDEX idx_department ON employees(department)')\n",
        "\n",
        "# comment: Indexes can significantly improve the performance of queries that filter or sort based on the indexed column.\n",
        "# however, they can also slow down data insertions and updates.\n",
        "# Therefore, use them judiciously.\n",
        "\n",
        "# querying with and without an index\n",
        "c.execute('SELECT * FROM employees WHERE department = \"HR\"')\n",
        "print(\"Query plan with index: \", c.fetchall())\n",
        "\n",
        "# drop the index\n",
        "c.execute('DROP INDEX IF EXISTS idx_department')  # Added 'IF EXISTS' to avoid an error if the index doesn't exist\n",
        "\n",
        "c.execute('SELECT * FROM employees WHERE department=\"HR\"')\n",
        "print(\"Query plan without index: \", c.fetchall())\n",
        "\n",
        "# clean up\n",
        "conn.commit()\n",
        "conn.close()\n"
      ]
    },
    {
      "cell_type": "code",
      "source": [
        "import sqlite3\n",
        "\n",
        "# connect to SQLite database\n",
        "conn = sqlite3.connect('example.db')\n",
        "c = conn.cursor()\n",
        "\n",
        "# create a sample table\n",
        "c.execute('''\n",
        "CREATE TABLE IF NOT EXISTS products(id INTEGER PRIMARY KEY, name TEXT, category TEXT, price INTEGER)\n",
        "''')\n",
        "\n",
        "# adding sample data\n",
        "sample_data = [(1, 'Laptop', 'Electronics', 1200),\n",
        "               (2, 'Chair', 'Furniture', 150),\n",
        "               (3, 'Smartphone', 'Electronics', 800)]\n",
        "c.executemany('INSERT INTO products VALUES(?, ?, ?, ?)', sample_data)\n",
        "\n",
        "# Query optimization example\n",
        "# -----------------------------------------------------------\n",
        "# Description: This example demonstrates how to write an optimized query by selecting only the necessary columns and using efficient filtering\n",
        "\n",
        "# Efficient query: selecting specific columns and filtering\n",
        "c.execute('SELECT name, price FROM products WHERE category = \"Electronics\"')\n",
        "print(\"Efficient query results:\", c.fetchall())\n",
        "\n",
        "# Cleanup\n",
        "conn.commit()\n",
        "conn.close()\n"
      ],
      "metadata": {
        "colab": {
          "base_uri": "https://localhost:8080/"
        },
        "id": "Jt8LFKdEIdWG",
        "outputId": "a8858ce1-3d35-480f-9391-e7a49c81b60f"
      },
      "execution_count": 8,
      "outputs": [
        {
          "output_type": "stream",
          "name": "stdout",
          "text": [
            "Efficient query results: [('Laptop', 1200), ('Smartphone', 800)]\n"
          ]
        }
      ]
    },
    {
      "cell_type": "code",
      "source": [
        "import sqlite3\n",
        "\n",
        "# connect to SQLite database\n",
        "conn = sqlite3.connect('example.db')\n",
        "c = conn.cursor()\n",
        "\n",
        "# create a sample table\n",
        "c.execute('''\n",
        "CREATE TABLE IF NOT EXISTS orders(id INTEGER PRIMARY KEY, product_id INTEGER, quantity INTEGER)\n",
        "''')\n",
        "\n",
        "# transaction optimization example\n",
        "# -------------------------------------------------\n",
        "# description : this example demonstrates the use of transactions to optimize bulk data insertion\n",
        "\n",
        "# start a transaction\n",
        "conn.execute(\n",
        "    'BEGIN TRANSACTION '\n",
        ")\n",
        "\n",
        "# burt insert data\n",
        "bulk_data = [(i,i%5+1, i * 2) for i in range(1,1001)]\n",
        "c.executemany('INSERT INTO orders VALUES(?,?,?)',bulk_data)\n",
        "\n",
        "conn.commit()\n",
        "\n",
        "c.execute('SELECT COUNT(*) FROM orders')\n",
        "print('Numberr of records inserted: ',c.fetchone()[0])\n",
        "\n",
        "conn.close()\n"
      ],
      "metadata": {
        "colab": {
          "base_uri": "https://localhost:8080/"
        },
        "id": "9_CvsKmsLExY",
        "outputId": "eec34eb5-f626-4e88-947e-55191e10755b"
      },
      "execution_count": 9,
      "outputs": [
        {
          "output_type": "stream",
          "name": "stdout",
          "text": [
            "Numberr of records inserted:  1000\n"
          ]
        }
      ]
    },
    {
      "cell_type": "code",
      "source": [
        "import sqlite3\n",
        "\n",
        "\n",
        "# connect to sqlite database\n",
        "conn = sqlite3.connect('example.db')\n",
        "c = conn.cursor()\n",
        "\n",
        "\n",
        "# create sample tables\n",
        "c.execute(\"\"\"CREATE TABLE IF NOT EXISTS students (id INTEGER PRIMARY KEY, name TEXT, class_id INTEGER)\"\"\")\n",
        "c.execute('''CREATE TABLE IF NOT EXISTS classes (id INTEGER PRIMARY KEY,class_name TEXT)''')\n",
        "\n",
        "\n",
        "# adding some sample data\n",
        "students_data= [(1,'John',1),(2,'Emma',2),(3,'Harry',1)]\n",
        "classes_data = [(1,'Math'),(2,'Science')]\n",
        "c.executemany('INSERT INTO students VALUES(?,?,?)',students_data)\n",
        "c.executemany('INSERT INTO classes VALUES(?,?)',classes_data)\n",
        "# efficient joins example\n",
        "# -------------------------------------------\n",
        "# description : this example demonstratese how to perform an efficient join between two tables\n",
        "\n",
        "# effieient join query\n",
        "c.execute('''SELECT students.name, classes.class_name\n",
        "            FROM students\n",
        "            JOIN classes ON students.class_id = classes.id\n",
        "''')\n",
        "\n",
        "print(\"Join results: \",c.fetchall())\n",
        "\n",
        "\n",
        "# clean up\n",
        "conn.commit()\n",
        "conn.close()\n"
      ],
      "metadata": {
        "colab": {
          "base_uri": "https://localhost:8080/"
        },
        "id": "4Oe9mh42M9YE",
        "outputId": "d6c6cba2-798c-45d2-858a-945db8716d3a"
      },
      "execution_count": 12,
      "outputs": [
        {
          "output_type": "stream",
          "name": "stdout",
          "text": [
            "Join results:  [('John', 'Math'), ('Emma', 'Science'), ('Harry', 'Math')]\n"
          ]
        }
      ]
    },
    {
      "cell_type": "code",
      "source": [
        "import sqlite3\n",
        "\n",
        "# connect to sqlite datbase\n",
        "conn = sqlite3.connect('example.db')\n",
        "c = conn.cursor()\n",
        "\n",
        "\n",
        "# advanced PRAGMA optimization example\n",
        "# ----------------------------------------------------\n",
        "# description : this example demonstares the advanced use of PRAGMA statements\n",
        "# for various database optimization including write-ahead logging, foregin key enforcement,\n",
        "# and query performance improvement\n",
        "\n",
        "# 1. setting the journal mode to WAL(write-ahead logging)\n",
        "# wal can improve the performance of read opertions while wrtie operations are happening\n",
        "c.execute('PRAGMA journal_mode = WAL')\n",
        "journal_mode = c.fetchone()[0]\n",
        "print(\"Journal mode set to: \", journal_mode)\n",
        "\n",
        "# 2: enabling foreign key constraint\n",
        "# ensures referential integrity in the database\n",
        "c.execute('PRAGMA foreign_keys = ON')\n",
        "c.execute('PRAGMA foreign_keys')\n",
        "fk_status = c.fetchone()[0]\n",
        "print(\"Foreign key status :  \", \"Enabled\" if fk_status else \"Disabled\")\n",
        "\n",
        "\n",
        "# 3. setting synchronous mode to normal\n",
        "# this reduces the number of disk writes, speeding up transactions at the risk of some data loss in case of a crash,\n",
        "c.execute('PRAGMA synchronous=NORMAL')\n",
        "c.execute('PRAGMA synchronous')\n",
        "sync_mode = c.fetchone()[0]\n",
        "print(\"Synchronous mode set to \", sync_mode)\n",
        "\n",
        "#4. adjusting cache size\n",
        "# increasing the cache size can improve the database read performance by reducing disk I/O\n",
        "c.execute('PRAGMA cache_size= 10000') # setting cache size to 10000pages\n",
        "c.execute(\"PRAGMA cache_size\")\n",
        "cache_size = c.fetchone()[0]\n",
        "print(\"Cache size set to:\", cache_size,\"pages\")\n",
        "\n",
        "# 5. querying the database file\n",
        "# useful for monitoring the database size, which can be a factor in performanc.\n",
        "c.execute('PRAGMA page_size')\n",
        "page_size = c.fetchone()[0]\n",
        "c.execute('PRAGMA page_count')\n",
        "page_count = c.fetchone()[0]\n",
        "db_size = page_size * page_count\n",
        "print(\"Database size: \", db_size, \"bytes\")\n",
        "\n",
        "# clean up\n",
        "conn.close()"
      ],
      "metadata": {
        "colab": {
          "base_uri": "https://localhost:8080/"
        },
        "id": "7yMPmFyyQpOF",
        "outputId": "a6abf2c5-d420-4b0f-c695-d637a3ecfec8"
      },
      "execution_count": 14,
      "outputs": [
        {
          "output_type": "stream",
          "name": "stdout",
          "text": [
            "Journal mode set to:  wal\n",
            "Foreign key status :   Enabled\n",
            "Synchronous mode set to  1\n",
            "Cache size set to: 10000 pages\n",
            "Database size:  36864 bytes\n"
          ]
        }
      ]
    }
  ]
}